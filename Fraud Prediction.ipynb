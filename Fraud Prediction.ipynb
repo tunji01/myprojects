{
 "cells": [
  {
   "cell_type": "code",
   "execution_count": 1,
   "id": "b6738034",
   "metadata": {},
   "outputs": [
    {
     "name": "stdout",
     "output_type": "stream",
     "text": [
      "Requirement already satisfied: pip in c:\\programdata\\anaconda3\\lib\\site-packages (22.0.4)\n",
      "Collecting pip\n",
      "  Downloading pip-23.1.2-py3-none-any.whl (2.1 MB)\n",
      "Installing collected packages: pip\n",
      "  Attempting uninstall: pip\n",
      "    Found existing installation: pip 22.0.4\n",
      "    Uninstalling pip-22.0.4:\n",
      "      Successfully uninstalled pip-22.0.4\n",
      "Successfully installed pip-23.1.2\n",
      "Note: you may need to restart the kernel to use updated packages.\n"
     ]
    }
   ],
   "source": [
    "pip install --upgrade pip"
   ]
  },
  {
   "cell_type": "code",
   "execution_count": 2,
   "id": "a47c07bc",
   "metadata": {},
   "outputs": [
    {
     "name": "stdout",
     "output_type": "stream",
     "text": [
      "Collecting category_encoders\n",
      "  Using cached category_encoders-2.6.0-py2.py3-none-any.whl (81 kB)\n",
      "Requirement already satisfied: numpy>=1.14.0 in c:\\programdata\\anaconda3\\lib\\site-packages (from category_encoders) (1.20.3)\n",
      "Requirement already satisfied: scikit-learn>=0.20.0 in c:\\programdata\\anaconda3\\lib\\site-packages (from category_encoders) (1.0.2)\n",
      "Requirement already satisfied: scipy>=1.0.0 in c:\\programdata\\anaconda3\\lib\\site-packages (from category_encoders) (1.7.3)\n",
      "Requirement already satisfied: statsmodels>=0.9.0 in c:\\programdata\\anaconda3\\lib\\site-packages (from category_encoders) (0.12.2)\n",
      "Requirement already satisfied: pandas>=1.0.5 in c:\\programdata\\anaconda3\\lib\\site-packages (from category_encoders) (1.4.1)\n",
      "Requirement already satisfied: patsy>=0.5.1 in c:\\programdata\\anaconda3\\lib\\site-packages (from category_encoders) (0.5.2)\n",
      "Requirement already satisfied: python-dateutil>=2.8.1 in c:\\programdata\\anaconda3\\lib\\site-packages (from pandas>=1.0.5->category_encoders) (2.8.2)\n",
      "Requirement already satisfied: pytz>=2020.1 in c:\\programdata\\anaconda3\\lib\\site-packages (from pandas>=1.0.5->category_encoders) (2021.3)\n",
      "Requirement already satisfied: six in c:\\programdata\\anaconda3\\lib\\site-packages (from patsy>=0.5.1->category_encoders) (1.16.0)\n",
      "Requirement already satisfied: joblib>=0.11 in c:\\programdata\\anaconda3\\lib\\site-packages (from scikit-learn>=0.20.0->category_encoders) (1.1.0)\n",
      "Requirement already satisfied: threadpoolctl>=2.0.0 in c:\\programdata\\anaconda3\\lib\\site-packages (from scikit-learn>=0.20.0->category_encoders) (2.2.0)\n",
      "Installing collected packages: category_encoders\n",
      "Successfully installed category_encoders-2.6.0\n",
      "Note: you may need to restart the kernel to use updated packages.\n"
     ]
    }
   ],
   "source": [
    "pip install  category_encoders"
   ]
  },
  {
   "cell_type": "code",
   "execution_count": 3,
   "id": "fac59747",
   "metadata": {},
   "outputs": [
    {
     "name": "stdout",
     "output_type": "stream",
     "text": [
      "Collecting imblearnNote: you may need to restart the kernel to use updated packages.\n",
      "  Using cached imblearn-0.0-py2.py3-none-any.whl (1.9 kB)\n",
      "Collecting imbalanced-learn (from imblearn)\n",
      "  Using cached imbalanced_learn-0.10.1-py3-none-any.whl (226 kB)\n",
      "Requirement already satisfied: numpy>=1.17.3 in c:\\programdata\\anaconda3\\lib\\site-packages (from imbalanced-learn->imblearn) (1.20.3)\n",
      "Requirement already satisfied: scipy>=1.3.2 in c:\\programdata\\anaconda3\\lib\\site-packages (from imbalanced-learn->imblearn) (1.7.3)\n",
      "Requirement already satisfied: scikit-learn>=1.0.2 in c:\\programdata\\anaconda3\\lib\\site-packages (from imbalanced-learn->imblearn) (1.0.2)\n",
      "Collecting joblib>=1.1.1 (from imbalanced-learn->imblearn)\n",
      "  Using cached joblib-1.2.0-py3-none-any.whl (297 kB)\n",
      "Requirement already satisfied: threadpoolctl>=2.0.0 in c:\\programdata\\anaconda3\\lib\\site-packages (from imbalanced-learn->imblearn) (2.2.0)\n",
      "Installing collected packages: joblib, imbalanced-learn, imblearn\n",
      "  Attempting uninstall: joblib\n",
      "    Found existing installation: joblib 1.1.0\n",
      "    Uninstalling joblib-1.1.0:\n",
      "      Successfully uninstalled joblib-1.1.0\n",
      "Successfully installed imbalanced-learn-0.10.1 imblearn-0.0 joblib-1.2.0\n",
      "\n"
     ]
    }
   ],
   "source": [
    "pip install imblearn"
   ]
  },
  {
   "cell_type": "code",
   "execution_count": 4,
   "id": "5392eb3f",
   "metadata": {},
   "outputs": [
    {
     "name": "stdout",
     "output_type": "stream",
     "text": [
      "Collecting xgboostNote: you may need to restart the kernel to use updated packages.\n",
      "  Using cached xgboost-1.7.5-py3-none-win_amd64.whl (70.9 MB)\n",
      "Requirement already satisfied: numpy in c:\\programdata\\anaconda3\\lib\\site-packages (from xgboost) (1.20.3)\n",
      "Requirement already satisfied: scipy in c:\\programdata\\anaconda3\\lib\\site-packages (from xgboost) (1.7.3)\n",
      "Installing collected packages: xgboost\n",
      "Successfully installed xgboost-1.7.5\n",
      "\n"
     ]
    }
   ],
   "source": [
    "pip install xgboost"
   ]
  },
  {
   "cell_type": "code",
   "execution_count": 1,
   "id": "985fb7ff",
   "metadata": {},
   "outputs": [],
   "source": [
    "#importing library\n",
    "import numpy as np # linear algebra\n",
    "import pandas as pd # data processing, CSV file I/O (e.g. pd.read_csv) \n",
    "%matplotlib inline\n",
    "import matplotlib.pyplot as plt\n",
    "import matplotlib.lines as mlines\n",
    "import seaborn as sns\n",
    "import plotly.express as px\n",
    "\n",
    "\n",
    "\n",
    "# Libraries for Data Preprocessing\n",
    "import glob\n",
    "from numpy import sort\n",
    "from sklearn.preprocessing import LabelEncoder\n",
    "import category_encoders as ce\n",
    "from sklearn.model_selection import train_test_split\n",
    "from sklearn.preprocessing import StandardScaler\n",
    "import matplotlib.gridspec as gridspec\n",
    "from xgboost import plot_importance, to_graphviz\n",
    "from sklearn.model_selection import StratifiedKFold\n",
    "\n",
    "\n",
    "# Importing ML Model packages\n",
    "from sklearn.feature_selection import SelectFromModel\n",
    "from sklearn.linear_model import LogisticRegression\n",
    "from sklearn.neighbors import KNeighborsClassifier\n",
    "import xgboost as xgb\n",
    "from sklearn.ensemble import RandomForestClassifier\n",
    "from sklearn.model_selection import RandomizedSearchCV\n",
    "from sklearn.linear_model import LogisticRegressionCV\n",
    "import sklearn.neighbors\n",
    "from sklearn.model_selection import GridSearchCV\n",
    "from imblearn.over_sampling import SMOTE\n",
    "from imblearn.under_sampling import RandomUnderSampler\n",
    "from sklearn.preprocessing import StandardScaler\n",
    "from sklearn.ensemble import VotingClassifier\n",
    "from sklearn.datasets import make_classification\n",
    "\n",
    "\n",
    "# Libraries for measuring accuracy\n",
    "from sklearn.metrics import classification_report,roc_auc_score\n",
    "from sklearn.metrics import accuracy_score\n",
    "from sklearn.metrics import precision_score\n",
    "from sklearn.metrics import recall_score\n",
    "from sklearn.metrics import plot_roc_curve\n",
    "from sklearn.metrics import confusion_matrix, matthews_corrcoef, roc_curve, make_scorer\n",
    "from sklearn.metrics import ConfusionMatrixDisplay\n",
    "from sklearn.metrics import confusion_matrix\n",
    "from sklearn.metrics import f1_score\n",
    "from sklearn.metrics import balanced_accuracy_score\n",
    "import matplotlib.pyplot as plt \n",
    "from matplotlib.legend_handler import HandlerBase\n",
    "from matplotlib.text import Text\n",
    "\n",
    "\n",
    "\n",
    "import warnings\n",
    "warnings.filterwarnings('ignore')\n",
    "from sklearn.tree import plot_tree\n",
    "\n",
    "import requests\n",
    "import io\n"
   ]
  },
  {
   "cell_type": "code",
   "execution_count": 2,
   "id": "0f0c4449",
   "metadata": {},
   "outputs": [],
   "source": [
    "#import pandas as pd\n",
    "df = pd.read_csv(\"C:/Users/b1666681/OneDrive - Teesside University/Dissertation/Data/Base.csv\")"
   ]
  },
  {
   "cell_type": "code",
   "execution_count": 3,
   "id": "1b54be9a",
   "metadata": {},
   "outputs": [
    {
     "data": {
      "text/html": [
       "<div>\n",
       "<style scoped>\n",
       "    .dataframe tbody tr th:only-of-type {\n",
       "        vertical-align: middle;\n",
       "    }\n",
       "\n",
       "    .dataframe tbody tr th {\n",
       "        vertical-align: top;\n",
       "    }\n",
       "\n",
       "    .dataframe thead th {\n",
       "        text-align: right;\n",
       "    }\n",
       "</style>\n",
       "<table border=\"1\" class=\"dataframe\">\n",
       "  <thead>\n",
       "    <tr style=\"text-align: right;\">\n",
       "      <th></th>\n",
       "      <th>fraud_bool</th>\n",
       "      <th>income</th>\n",
       "      <th>name_email_similarity</th>\n",
       "      <th>prev_address_months_count</th>\n",
       "      <th>current_address_months_count</th>\n",
       "      <th>customer_age</th>\n",
       "      <th>days_since_request</th>\n",
       "      <th>intended_balcon_amount</th>\n",
       "      <th>payment_type</th>\n",
       "      <th>zip_count_4w</th>\n",
       "      <th>...</th>\n",
       "      <th>has_other_cards</th>\n",
       "      <th>proposed_credit_limit</th>\n",
       "      <th>foreign_request</th>\n",
       "      <th>source</th>\n",
       "      <th>session_length_in_minutes</th>\n",
       "      <th>device_os</th>\n",
       "      <th>keep_alive_session</th>\n",
       "      <th>device_distinct_emails_8w</th>\n",
       "      <th>device_fraud_count</th>\n",
       "      <th>month</th>\n",
       "    </tr>\n",
       "  </thead>\n",
       "  <tbody>\n",
       "    <tr>\n",
       "      <th>0</th>\n",
       "      <td>1</td>\n",
       "      <td>0.9</td>\n",
       "      <td>0.166828</td>\n",
       "      <td>-1</td>\n",
       "      <td>88</td>\n",
       "      <td>50</td>\n",
       "      <td>0.020925</td>\n",
       "      <td>-1.331345</td>\n",
       "      <td>AA</td>\n",
       "      <td>769</td>\n",
       "      <td>...</td>\n",
       "      <td>0</td>\n",
       "      <td>500.0</td>\n",
       "      <td>0</td>\n",
       "      <td>INTERNET</td>\n",
       "      <td>3.888115</td>\n",
       "      <td>windows</td>\n",
       "      <td>0</td>\n",
       "      <td>1</td>\n",
       "      <td>0</td>\n",
       "      <td>7</td>\n",
       "    </tr>\n",
       "    <tr>\n",
       "      <th>1</th>\n",
       "      <td>1</td>\n",
       "      <td>0.9</td>\n",
       "      <td>0.296286</td>\n",
       "      <td>-1</td>\n",
       "      <td>144</td>\n",
       "      <td>50</td>\n",
       "      <td>0.005418</td>\n",
       "      <td>-0.816224</td>\n",
       "      <td>AB</td>\n",
       "      <td>366</td>\n",
       "      <td>...</td>\n",
       "      <td>0</td>\n",
       "      <td>1500.0</td>\n",
       "      <td>0</td>\n",
       "      <td>INTERNET</td>\n",
       "      <td>31.798819</td>\n",
       "      <td>windows</td>\n",
       "      <td>0</td>\n",
       "      <td>1</td>\n",
       "      <td>0</td>\n",
       "      <td>7</td>\n",
       "    </tr>\n",
       "    <tr>\n",
       "      <th>2</th>\n",
       "      <td>1</td>\n",
       "      <td>0.9</td>\n",
       "      <td>0.044985</td>\n",
       "      <td>-1</td>\n",
       "      <td>132</td>\n",
       "      <td>40</td>\n",
       "      <td>3.108549</td>\n",
       "      <td>-0.755728</td>\n",
       "      <td>AC</td>\n",
       "      <td>870</td>\n",
       "      <td>...</td>\n",
       "      <td>0</td>\n",
       "      <td>200.0</td>\n",
       "      <td>0</td>\n",
       "      <td>INTERNET</td>\n",
       "      <td>4.728705</td>\n",
       "      <td>other</td>\n",
       "      <td>0</td>\n",
       "      <td>1</td>\n",
       "      <td>0</td>\n",
       "      <td>7</td>\n",
       "    </tr>\n",
       "    <tr>\n",
       "      <th>3</th>\n",
       "      <td>1</td>\n",
       "      <td>0.9</td>\n",
       "      <td>0.159511</td>\n",
       "      <td>-1</td>\n",
       "      <td>22</td>\n",
       "      <td>50</td>\n",
       "      <td>0.019079</td>\n",
       "      <td>-1.205124</td>\n",
       "      <td>AB</td>\n",
       "      <td>810</td>\n",
       "      <td>...</td>\n",
       "      <td>1</td>\n",
       "      <td>200.0</td>\n",
       "      <td>0</td>\n",
       "      <td>INTERNET</td>\n",
       "      <td>2.047904</td>\n",
       "      <td>linux</td>\n",
       "      <td>0</td>\n",
       "      <td>1</td>\n",
       "      <td>0</td>\n",
       "      <td>7</td>\n",
       "    </tr>\n",
       "    <tr>\n",
       "      <th>4</th>\n",
       "      <td>1</td>\n",
       "      <td>0.9</td>\n",
       "      <td>0.596414</td>\n",
       "      <td>-1</td>\n",
       "      <td>218</td>\n",
       "      <td>50</td>\n",
       "      <td>0.004441</td>\n",
       "      <td>-0.773276</td>\n",
       "      <td>AB</td>\n",
       "      <td>890</td>\n",
       "      <td>...</td>\n",
       "      <td>0</td>\n",
       "      <td>1500.0</td>\n",
       "      <td>0</td>\n",
       "      <td>INTERNET</td>\n",
       "      <td>3.775225</td>\n",
       "      <td>macintosh</td>\n",
       "      <td>1</td>\n",
       "      <td>1</td>\n",
       "      <td>0</td>\n",
       "      <td>7</td>\n",
       "    </tr>\n",
       "  </tbody>\n",
       "</table>\n",
       "<p>5 rows × 32 columns</p>\n",
       "</div>"
      ],
      "text/plain": [
       "   fraud_bool  income  name_email_similarity  prev_address_months_count  \\\n",
       "0           1     0.9               0.166828                         -1   \n",
       "1           1     0.9               0.296286                         -1   \n",
       "2           1     0.9               0.044985                         -1   \n",
       "3           1     0.9               0.159511                         -1   \n",
       "4           1     0.9               0.596414                         -1   \n",
       "\n",
       "   current_address_months_count  customer_age  days_since_request  \\\n",
       "0                            88            50            0.020925   \n",
       "1                           144            50            0.005418   \n",
       "2                           132            40            3.108549   \n",
       "3                            22            50            0.019079   \n",
       "4                           218            50            0.004441   \n",
       "\n",
       "   intended_balcon_amount payment_type  zip_count_4w  ...  has_other_cards  \\\n",
       "0               -1.331345           AA           769  ...                0   \n",
       "1               -0.816224           AB           366  ...                0   \n",
       "2               -0.755728           AC           870  ...                0   \n",
       "3               -1.205124           AB           810  ...                1   \n",
       "4               -0.773276           AB           890  ...                0   \n",
       "\n",
       "   proposed_credit_limit  foreign_request    source  \\\n",
       "0                  500.0                0  INTERNET   \n",
       "1                 1500.0                0  INTERNET   \n",
       "2                  200.0                0  INTERNET   \n",
       "3                  200.0                0  INTERNET   \n",
       "4                 1500.0                0  INTERNET   \n",
       "\n",
       "   session_length_in_minutes  device_os  keep_alive_session  \\\n",
       "0                   3.888115    windows                   0   \n",
       "1                  31.798819    windows                   0   \n",
       "2                   4.728705      other                   0   \n",
       "3                   2.047904      linux                   0   \n",
       "4                   3.775225  macintosh                   1   \n",
       "\n",
       "   device_distinct_emails_8w device_fraud_count  month  \n",
       "0                          1                  0      7  \n",
       "1                          1                  0      7  \n",
       "2                          1                  0      7  \n",
       "3                          1                  0      7  \n",
       "4                          1                  0      7  \n",
       "\n",
       "[5 rows x 32 columns]"
      ]
     },
     "execution_count": 3,
     "metadata": {},
     "output_type": "execute_result"
    }
   ],
   "source": [
    "df.head()"
   ]
  },
  {
   "cell_type": "code",
   "execution_count": 4,
   "id": "72965a56",
   "metadata": {},
   "outputs": [],
   "source": [
    "# Rename the 'Class' column to 'Status'\n",
    "df = df.rename(columns={'fraud_bool': 'Fraud_Status'})"
   ]
  },
  {
   "cell_type": "code",
   "execution_count": 5,
   "id": "69a185ed",
   "metadata": {},
   "outputs": [
    {
     "data": {
      "text/html": [
       "<div>\n",
       "<style scoped>\n",
       "    .dataframe tbody tr th:only-of-type {\n",
       "        vertical-align: middle;\n",
       "    }\n",
       "\n",
       "    .dataframe tbody tr th {\n",
       "        vertical-align: top;\n",
       "    }\n",
       "\n",
       "    .dataframe thead th {\n",
       "        text-align: right;\n",
       "    }\n",
       "</style>\n",
       "<table border=\"1\" class=\"dataframe\">\n",
       "  <thead>\n",
       "    <tr style=\"text-align: right;\">\n",
       "      <th></th>\n",
       "      <th>Fraud_Status</th>\n",
       "      <th>income</th>\n",
       "      <th>name_email_similarity</th>\n",
       "      <th>prev_address_months_count</th>\n",
       "      <th>current_address_months_count</th>\n",
       "      <th>customer_age</th>\n",
       "      <th>days_since_request</th>\n",
       "      <th>intended_balcon_amount</th>\n",
       "      <th>payment_type</th>\n",
       "      <th>zip_count_4w</th>\n",
       "      <th>...</th>\n",
       "      <th>has_other_cards</th>\n",
       "      <th>proposed_credit_limit</th>\n",
       "      <th>foreign_request</th>\n",
       "      <th>source</th>\n",
       "      <th>session_length_in_minutes</th>\n",
       "      <th>device_os</th>\n",
       "      <th>keep_alive_session</th>\n",
       "      <th>device_distinct_emails_8w</th>\n",
       "      <th>device_fraud_count</th>\n",
       "      <th>month</th>\n",
       "    </tr>\n",
       "  </thead>\n",
       "  <tbody>\n",
       "    <tr>\n",
       "      <th>0</th>\n",
       "      <td>1</td>\n",
       "      <td>0.9</td>\n",
       "      <td>0.166828</td>\n",
       "      <td>-1</td>\n",
       "      <td>88</td>\n",
       "      <td>50</td>\n",
       "      <td>0.020925</td>\n",
       "      <td>-1.331345</td>\n",
       "      <td>AA</td>\n",
       "      <td>769</td>\n",
       "      <td>...</td>\n",
       "      <td>0</td>\n",
       "      <td>500.0</td>\n",
       "      <td>0</td>\n",
       "      <td>INTERNET</td>\n",
       "      <td>3.888115</td>\n",
       "      <td>windows</td>\n",
       "      <td>0</td>\n",
       "      <td>1</td>\n",
       "      <td>0</td>\n",
       "      <td>7</td>\n",
       "    </tr>\n",
       "    <tr>\n",
       "      <th>1</th>\n",
       "      <td>1</td>\n",
       "      <td>0.9</td>\n",
       "      <td>0.296286</td>\n",
       "      <td>-1</td>\n",
       "      <td>144</td>\n",
       "      <td>50</td>\n",
       "      <td>0.005418</td>\n",
       "      <td>-0.816224</td>\n",
       "      <td>AB</td>\n",
       "      <td>366</td>\n",
       "      <td>...</td>\n",
       "      <td>0</td>\n",
       "      <td>1500.0</td>\n",
       "      <td>0</td>\n",
       "      <td>INTERNET</td>\n",
       "      <td>31.798819</td>\n",
       "      <td>windows</td>\n",
       "      <td>0</td>\n",
       "      <td>1</td>\n",
       "      <td>0</td>\n",
       "      <td>7</td>\n",
       "    </tr>\n",
       "    <tr>\n",
       "      <th>2</th>\n",
       "      <td>1</td>\n",
       "      <td>0.9</td>\n",
       "      <td>0.044985</td>\n",
       "      <td>-1</td>\n",
       "      <td>132</td>\n",
       "      <td>40</td>\n",
       "      <td>3.108549</td>\n",
       "      <td>-0.755728</td>\n",
       "      <td>AC</td>\n",
       "      <td>870</td>\n",
       "      <td>...</td>\n",
       "      <td>0</td>\n",
       "      <td>200.0</td>\n",
       "      <td>0</td>\n",
       "      <td>INTERNET</td>\n",
       "      <td>4.728705</td>\n",
       "      <td>other</td>\n",
       "      <td>0</td>\n",
       "      <td>1</td>\n",
       "      <td>0</td>\n",
       "      <td>7</td>\n",
       "    </tr>\n",
       "    <tr>\n",
       "      <th>3</th>\n",
       "      <td>1</td>\n",
       "      <td>0.9</td>\n",
       "      <td>0.159511</td>\n",
       "      <td>-1</td>\n",
       "      <td>22</td>\n",
       "      <td>50</td>\n",
       "      <td>0.019079</td>\n",
       "      <td>-1.205124</td>\n",
       "      <td>AB</td>\n",
       "      <td>810</td>\n",
       "      <td>...</td>\n",
       "      <td>1</td>\n",
       "      <td>200.0</td>\n",
       "      <td>0</td>\n",
       "      <td>INTERNET</td>\n",
       "      <td>2.047904</td>\n",
       "      <td>linux</td>\n",
       "      <td>0</td>\n",
       "      <td>1</td>\n",
       "      <td>0</td>\n",
       "      <td>7</td>\n",
       "    </tr>\n",
       "    <tr>\n",
       "      <th>4</th>\n",
       "      <td>1</td>\n",
       "      <td>0.9</td>\n",
       "      <td>0.596414</td>\n",
       "      <td>-1</td>\n",
       "      <td>218</td>\n",
       "      <td>50</td>\n",
       "      <td>0.004441</td>\n",
       "      <td>-0.773276</td>\n",
       "      <td>AB</td>\n",
       "      <td>890</td>\n",
       "      <td>...</td>\n",
       "      <td>0</td>\n",
       "      <td>1500.0</td>\n",
       "      <td>0</td>\n",
       "      <td>INTERNET</td>\n",
       "      <td>3.775225</td>\n",
       "      <td>macintosh</td>\n",
       "      <td>1</td>\n",
       "      <td>1</td>\n",
       "      <td>0</td>\n",
       "      <td>7</td>\n",
       "    </tr>\n",
       "  </tbody>\n",
       "</table>\n",
       "<p>5 rows × 32 columns</p>\n",
       "</div>"
      ],
      "text/plain": [
       "   Fraud_Status  income  name_email_similarity  prev_address_months_count  \\\n",
       "0             1     0.9               0.166828                         -1   \n",
       "1             1     0.9               0.296286                         -1   \n",
       "2             1     0.9               0.044985                         -1   \n",
       "3             1     0.9               0.159511                         -1   \n",
       "4             1     0.9               0.596414                         -1   \n",
       "\n",
       "   current_address_months_count  customer_age  days_since_request  \\\n",
       "0                            88            50            0.020925   \n",
       "1                           144            50            0.005418   \n",
       "2                           132            40            3.108549   \n",
       "3                            22            50            0.019079   \n",
       "4                           218            50            0.004441   \n",
       "\n",
       "   intended_balcon_amount payment_type  zip_count_4w  ...  has_other_cards  \\\n",
       "0               -1.331345           AA           769  ...                0   \n",
       "1               -0.816224           AB           366  ...                0   \n",
       "2               -0.755728           AC           870  ...                0   \n",
       "3               -1.205124           AB           810  ...                1   \n",
       "4               -0.773276           AB           890  ...                0   \n",
       "\n",
       "   proposed_credit_limit  foreign_request    source  \\\n",
       "0                  500.0                0  INTERNET   \n",
       "1                 1500.0                0  INTERNET   \n",
       "2                  200.0                0  INTERNET   \n",
       "3                  200.0                0  INTERNET   \n",
       "4                 1500.0                0  INTERNET   \n",
       "\n",
       "   session_length_in_minutes  device_os  keep_alive_session  \\\n",
       "0                   3.888115    windows                   0   \n",
       "1                  31.798819    windows                   0   \n",
       "2                   4.728705      other                   0   \n",
       "3                   2.047904      linux                   0   \n",
       "4                   3.775225  macintosh                   1   \n",
       "\n",
       "   device_distinct_emails_8w device_fraud_count  month  \n",
       "0                          1                  0      7  \n",
       "1                          1                  0      7  \n",
       "2                          1                  0      7  \n",
       "3                          1                  0      7  \n",
       "4                          1                  0      7  \n",
       "\n",
       "[5 rows x 32 columns]"
      ]
     },
     "execution_count": 5,
     "metadata": {},
     "output_type": "execute_result"
    }
   ],
   "source": [
    "#Data preview\n",
    "df.head()"
   ]
  },
  {
   "cell_type": "code",
   "execution_count": 6,
   "id": "2d22c7fd",
   "metadata": {},
   "outputs": [
    {
     "data": {
      "text/plain": [
       "(1000000, 32)"
      ]
     },
     "execution_count": 6,
     "metadata": {},
     "output_type": "execute_result"
    }
   ],
   "source": [
    "df.shape"
   ]
  },
  {
   "cell_type": "code",
   "execution_count": 6,
   "id": "61417460",
   "metadata": {},
   "outputs": [
    {
     "name": "stdout",
     "output_type": "stream",
     "text": [
      "         Fraud_Status          income  name_email_similarity  \\\n",
      "count  1000000.000000  1000000.000000         1000000.000000   \n",
      "mean         0.011029        0.562696               0.493694   \n",
      "std          0.104438        0.290343               0.289125   \n",
      "min          0.000000        0.100000               0.000001   \n",
      "25%          0.000000        0.300000               0.225216   \n",
      "50%          0.000000        0.600000               0.492153   \n",
      "75%          0.000000        0.800000               0.755567   \n",
      "max          1.000000        0.900000               0.999999   \n",
      "\n",
      "       prev_address_months_count  current_address_months_count  \\\n",
      "count             1000000.000000                1000000.000000   \n",
      "mean                   16.718568                     86.587867   \n",
      "std                    44.046230                     88.406599   \n",
      "min                    -1.000000                     -1.000000   \n",
      "25%                    -1.000000                     19.000000   \n",
      "50%                    -1.000000                     52.000000   \n",
      "75%                    12.000000                    130.000000   \n",
      "max                   383.000000                    428.000000   \n",
      "\n",
      "         customer_age  days_since_request  intended_balcon_amount  \\\n",
      "count  1000000.000000        1.000000e+06          1000000.000000   \n",
      "mean        33.689080        1.025705e+00                8.661499   \n",
      "std         12.025799        5.381835e+00               20.236155   \n",
      "min         10.000000        4.036860e-09              -15.530555   \n",
      "25%         20.000000        7.193246e-03               -1.181488   \n",
      "50%         30.000000        1.517574e-02               -0.830507   \n",
      "75%         40.000000        2.633069e-02                4.984176   \n",
      "max         90.000000        7.845690e+01              112.956928   \n",
      "\n",
      "         zip_count_4w     velocity_6h  ...  phone_mobile_valid  \\\n",
      "count  1000000.000000  1000000.000000  ...      1000000.000000   \n",
      "mean      1572.692049     5665.296605  ...            0.889676   \n",
      "std       1005.374565     3009.380665  ...            0.313293   \n",
      "min          1.000000     -170.603072  ...            0.000000   \n",
      "25%        894.000000     3436.365848  ...            1.000000   \n",
      "50%       1263.000000     5319.769349  ...            1.000000   \n",
      "75%       1944.000000     7680.717827  ...            1.000000   \n",
      "max       6700.000000    16715.565404  ...            1.000000   \n",
      "\n",
      "       bank_months_count  has_other_cards  proposed_credit_limit  \\\n",
      "count     1000000.000000   1000000.000000         1000000.000000   \n",
      "mean           10.839303         0.222988             515.851010   \n",
      "std            12.116875         0.416251             487.559902   \n",
      "min            -1.000000         0.000000             190.000000   \n",
      "25%            -1.000000         0.000000             200.000000   \n",
      "50%             5.000000         0.000000             200.000000   \n",
      "75%            25.000000         0.000000             500.000000   \n",
      "max            32.000000         1.000000            2100.000000   \n",
      "\n",
      "       foreign_request  session_length_in_minutes  keep_alive_session  \\\n",
      "count   1000000.000000             1000000.000000      1000000.000000   \n",
      "mean          0.025242                   7.544940            0.576947   \n",
      "std           0.156859                   8.033106            0.494044   \n",
      "min           0.000000                  -1.000000            0.000000   \n",
      "25%           0.000000                   3.103053            0.000000   \n",
      "50%           0.000000                   5.114321            1.000000   \n",
      "75%           0.000000                   8.866131            1.000000   \n",
      "max           1.000000                  85.899143            1.000000   \n",
      "\n",
      "       device_distinct_emails_8w  device_fraud_count           month  \n",
      "count             1000000.000000           1000000.0  1000000.000000  \n",
      "mean                    1.018312                 0.0        3.288674  \n",
      "std                     0.180761                 0.0        2.209994  \n",
      "min                    -1.000000                 0.0        0.000000  \n",
      "25%                     1.000000                 0.0        1.000000  \n",
      "50%                     1.000000                 0.0        3.000000  \n",
      "75%                     1.000000                 0.0        5.000000  \n",
      "max                     2.000000                 0.0        7.000000  \n",
      "\n",
      "[8 rows x 27 columns]\n"
     ]
    }
   ],
   "source": [
    "# Calculate summary statistics for each feature in the dataset\n",
    "summary_stats = df.describe()\n",
    "\n",
    "# Print the summary statistics\n",
    "print(summary_stats)"
   ]
  },
  {
   "cell_type": "code",
   "execution_count": 6,
   "id": "ea961bc2",
   "metadata": {},
   "outputs": [
    {
     "data": {
      "text/plain": [
       "0    988971\n",
       "1     11029\n",
       "Name: Fraud_Status, dtype: int64"
      ]
     },
     "execution_count": 6,
     "metadata": {},
     "output_type": "execute_result"
    }
   ],
   "source": [
    "df['Fraud_Status'].value_counts()"
   ]
  },
  {
   "cell_type": "markdown",
   "id": "5e2abc64",
   "metadata": {},
   "source": [
    "# Checking for missing values"
   ]
  },
  {
   "cell_type": "code",
   "execution_count": 5,
   "id": "469cf023",
   "metadata": {},
   "outputs": [
    {
     "data": {
      "text/plain": [
       "Fraud_Status                        0\n",
       "income                              0\n",
       "name_email_similarity               0\n",
       "prev_address_months_count           0\n",
       "current_address_months_count        0\n",
       "customer_age                        0\n",
       "days_since_request                  0\n",
       "intended_balcon_amount              0\n",
       "payment_type                        0\n",
       "zip_count_4w                        0\n",
       "velocity_6h                         0\n",
       "velocity_24h                        0\n",
       "velocity_4w                         0\n",
       "bank_branch_count_8w                0\n",
       "date_of_birth_distinct_emails_4w    0\n",
       "employment_status                   0\n",
       "credit_risk_score                   0\n",
       "email_is_free                       0\n",
       "housing_status                      0\n",
       "phone_home_valid                    0\n",
       "phone_mobile_valid                  0\n",
       "bank_months_count                   0\n",
       "has_other_cards                     0\n",
       "proposed_credit_limit               0\n",
       "foreign_request                     0\n",
       "source                              0\n",
       "session_length_in_minutes           0\n",
       "device_os                           0\n",
       "keep_alive_session                  0\n",
       "device_distinct_emails_8w           0\n",
       "device_fraud_count                  0\n",
       "month                               0\n",
       "dtype: int64"
      ]
     },
     "execution_count": 5,
     "metadata": {},
     "output_type": "execute_result"
    }
   ],
   "source": [
    "df.isna().sum()"
   ]
  },
  {
   "cell_type": "markdown",
   "id": "eadcb243",
   "metadata": {},
   "source": [
    "# Exploratory Data Analysis"
   ]
  },
  {
   "cell_type": "markdown",
   "id": "34169038",
   "metadata": {},
   "source": [
    "Analysing the data to get insight about the data and to find patterns"
   ]
  },
  {
   "cell_type": "code",
   "execution_count": 9,
   "id": "12208ca3",
   "metadata": {},
   "outputs": [
    {
     "data": {
      "image/png": "[encoded data removed]",
      "text/plain": [
       "<Figure size 432x288 with 1 Axes>"
      ]
     },
     "metadata": {
      "needs_background": "light"
     },
     "output_type": "display_data"
    }
   ],
   "source": [
    "# Visualize the distribution of the 'customer_age' feature using a histogram\n",
    "plt.hist(df['customer_age'], bins=10, color='#7149C6')\n",
    "plt.xlabel('customer_age')\n",
    "plt.ylabel('Count')\n",
    "plt.title('Distribution of customer_age')\n",
    "# Removing gridlines\n",
    "plt.grid(False)\n",
    "plt.show()"
   ]
  },
  {
   "cell_type": "code",
   "execution_count": 10,
   "id": "0fc7c132",
   "metadata": {
    "scrolled": true
   },
   "outputs": [
    {
     "data": {
      "image/png": "[encoded data removed]",
      "text/plain": [
       "<Figure size 432x288 with 1 Axes>"
      ]
     },
     "metadata": {
      "needs_background": "light"
     },
     "output_type": "display_data"
    }
   ],
   "source": [
    "# Visualize the distribution of the 'payment_type' feature using a histogram\n",
    "plt.hist(df['payment_type'], bins=10, color='#7149C6')\n",
    "plt.xlabel('payment_type')\n",
    "plt.ylabel('Count')\n",
    "plt.title('Distribution of payment_type')\n",
    "# Removing gridlines\n",
    "plt.grid(False)\n",
    "plt.show()"
   ]
  },
  {
   "cell_type": "code",
   "execution_count": 181,
   "id": "e24a10cc",
   "metadata": {},
   "outputs": [
    {
     "data": {
      "image/png": "[encoded data removed]",
      "text/plain": [
       "<Figure size 432x288 with 1 Axes>"
      ]
     },
     "metadata": {},
     "output_type": "display_data"
    }
   ],
   "source": [
    "# Visualize the distribution of the 'credit_risk_score' feature using a histogram\n",
    "plt.hist(df['credit_risk_score'], bins=10, color='#7149C6')\n",
    "plt.xlabel('credit_risk_score')\n",
    "plt.ylabel('Count')\n",
    "plt.title('Distribution of credit_risk_score')\n",
    "# Removing gridlines\n",
    "plt.grid(False)\n",
    "plt.show()"
   ]
  },
  {
   "cell_type": "code",
   "execution_count": 7,
   "id": "9e3377c6",
   "metadata": {},
   "outputs": [
    {
     "data": {
      "image/png": "[encoded data removed]",
      "text/plain": [
       "<Figure size 432x288 with 1 Axes>"
      ]
     },
     "metadata": {
      "needs_background": "light"
     },
     "output_type": "display_data"
    }
   ],
   "source": [
    "# Visualize the distribution of the 'zip_count_4w' feature using a histogram\n",
    "plt.hist(df['zip_count_4w'], bins=10, color='#7149C6')\n",
    "plt.xlabel('zip_count_4w')\n",
    "plt.ylabel('Count')\n",
    "plt.title('Distribution of zip_count_4w')\n",
    "# Removing gridlines\n",
    "plt.grid(False)\n",
    "plt.show()"
   ]
  },
  {
   "cell_type": "code",
   "execution_count": 52,
   "id": "72085c63",
   "metadata": {},
   "outputs": [
    {
     "data": {
      "image/png": "[encoded data removed]",
      "text/plain": [
       "<Figure size 432x288 with 1 Axes>"
      ]
     },
     "metadata": {
      "needs_background": "light"
     },
     "output_type": "display_data"
    }
   ],
   "source": [
    "# Visualize the distribution of the 'velocity_6h' feature using a histogram\n",
    "plt.hist(df['velocity_6h'], bins=10, color='#7149C6')\n",
    "plt.xlabel('velocity_6h')\n",
    "plt.ylabel('Count')\n",
    "plt.title('Distribution of velocity_6h')\n",
    "plt.show()"
   ]
  },
  {
   "cell_type": "code",
   "execution_count": 184,
   "id": "458898e4",
   "metadata": {},
   "outputs": [
    {
     "data": {
      "image/png": "[encoded data removed]",
      "text/plain": [
       "<Figure size 432x288 with 1 Axes>"
      ]
     },
     "metadata": {},
     "output_type": "display_data"
    }
   ],
   "source": [
    "# Visualize the distribution of the 'velocity_24h' feature using a histogram 4E6E81,7149C6\n",
    "plt.hist(df['velocity_24h'], bins=10, color='#7149C6')\n",
    "plt.xlabel('velocity_24h')\n",
    "plt.ylabel('Count')\n",
    "plt.title('Distribution of velocity_24h')\n",
    "# Removing gridlines\n",
    "plt.grid(False)\n",
    "plt.show()"
   ]
  },
  {
   "cell_type": "code",
   "execution_count": 185,
   "id": "c3282097",
   "metadata": {},
   "outputs": [
    {
     "data": {
      "image/png": "[encoded data removed]",
      "text/plain": [
       "<Figure size 432x288 with 1 Axes>"
      ]
     },
     "metadata": {},
     "output_type": "display_data"
    }
   ],
   "source": [
    "# Visualize the distribution of the 'device_os' feature using a histogram\n",
    "plt.hist(df['device_os'], bins=10, color='#7149C6')\n",
    "plt.xlabel('device_os')\n",
    "plt.ylabel('Count')\n",
    "plt.title('Distribution of device_os')\n",
    "# Removing gridlines\n",
    "plt.grid(False)\n",
    "plt.show()"
   ]
  },
  {
   "cell_type": "code",
   "execution_count": 186,
   "id": "f5ac893b",
   "metadata": {},
   "outputs": [
    {
     "data": {
      "image/png": "[encoded data removed]",
      "text/plain": [
       "<Figure size 1296x288 with 2 Axes>"
      ]
     },
     "metadata": {},
     "output_type": "display_data"
    }
   ],
   "source": [
    "fig, ax = plt.subplots(1, 2,  figsize=(18,4))\n",
    "\n",
    "credit_limit_val = df['credit_risk_score'].values\n",
    "date_of_birth_distinct_emails_4w = df['date_of_birth_distinct_emails_4w'].values\n",
    "\n",
    "sns.distplot(credit_limit_val, ax=ax[0], color='#7149C6')  # Update color to 'red'\n",
    "ax[0].set_title('Distribution of credit_risk_score', fontsize=14)\n",
    "ax[0].set_xlim([min(credit_limit_val), max(credit_limit_val)])\n",
    "\n",
    "sns.distplot(income_val, ax=ax[1], color='blue')  # Update color to 'blue'\n",
    "ax[1].set_title('Distribution of date_of_birth_distinct_emails_4w', fontsize=14)\n",
    "ax[1].set_xlim([min(date_of_birth_distinct_emails_4w), max(date_of_birth_distinct_emails_4w)])\n",
    "\n",
    "# Removing gridlines\n",
    "plt.grid(False)\n",
    "plt.show()\n"
   ]
  },
  {
   "cell_type": "code",
   "execution_count": 9,
   "id": "77724874",
   "metadata": {},
   "outputs": [
    {
     "data": {
      "image/png": "[encoded data removed]",
      "text/plain": [
       "<Figure size 432x504 with 1 Axes>"
      ]
     },
     "metadata": {},
     "output_type": "display_data"
    }
   ],
   "source": [
    "# Calculate the total number of fraud cases and non-fraud cases FFC6D3,7B8FA1\n",
    "total_fraud = df[df['Fraud_Status'] == 1]['Fraud_Status'].count()\n",
    "total_non_fraud = df[df['Fraud_Status'] == 0]['Fraud_Status'].count()\n",
    "\n",
    "# Create a list of labels for the pie chart\n",
    "labels = ['Fraud', 'Non-fraud']\n",
    "\n",
    "# Create a list of sizes for each slice of the pie chart\n",
    "sizes = [total_fraud, total_non_fraud]\n",
    "# Define custom colors for the pie chart\n",
    "colors = ['#FFC6D3', '#865DFF']  # Set colors here\n",
    "\n",
    "# Create a pie chart with the labels and sizes\n",
    "plt.figure(figsize=(6, 7))  # Resize the chart\n",
    "plt.pie(sizes, labels=labels, autopct='%1.1f%%',colors=colors)\n",
    "\n",
    "# Add a title to the pie chart\n",
    "plt.title('Target Class Distribution',fontsize=14)\n",
    "\n",
    "# Add a legend to the pie chart\n",
    "plt.legend(labels, loc='best')\n",
    "\n",
    "# Display the pie chart\n",
    "plt.show()\n"
   ]
  },
  {
   "cell_type": "markdown",
   "id": "b5f3e3e1",
   "metadata": {},
   "source": [
    "# Handling Outliers"
   ]
  },
  {
   "cell_type": "code",
   "execution_count": 6,
   "id": "e6945fbc",
   "metadata": {},
   "outputs": [
    {
     "data": {
      "image/png": "[encoded data removed]",
      "text/plain": [
       "<Figure size 432x288 with 1 Axes>"
      ]
     },
     "metadata": {},
     "output_type": "display_data"
    }
   ],
   "source": [
    "colors = ['#865DFF', '#FFC6D3']\n",
    "# Create a box plot of 'income' for each 'Class'\n",
    "sns.set_style('whitegrid')\n",
    "sns.set_palette(colors)  # Pass colors to palette parameter\n",
    "sns.boxplot(x='Fraud_Status', y='income', data=df)\n",
    "\n",
    "# Add labels and a title to the plot\n",
    "plt.xlabel('Fraud status')\n",
    "plt.ylabel('Income')\n",
    "plt.title('Box Plot of Income by fraud status')\n",
    "\n",
    "# Display the plot\n",
    "plt.show()"
   ]
  },
  {
   "cell_type": "code",
   "execution_count": 7,
   "id": "8c8222a0",
   "metadata": {},
   "outputs": [
    {
     "name": "stdout",
     "output_type": "stream",
     "text": [
      "Number of selected rows: 909\n"
     ]
    }
   ],
   "source": [
    "# search for instances outside of the whiskers n\n",
    "out_income= df[(df[\"Fraud_Status\"] == 1) & (df[\"income\"] < 0.2)]\n",
    "# Count the number of selected rows\n",
    "num_rows = len(out_income)\n",
    "\n",
    "# Display the number of selected rows\n",
    "print(\"Number of selected rows:\", num_rows)"
   ]
  },
  {
   "cell_type": "code",
   "execution_count": 8,
   "id": "2ff5196a",
   "metadata": {},
   "outputs": [],
   "source": [
    "# Replace values in the 'income' column with mean value of 0.56 where 'Fraud_Status' is equal to 1 and 'income' is less than 0.2\n",
    "df.loc[(df[\"Fraud_Status\"] == 1) & (df[\"income\"] < 0.2), 'income'] = 0.56"
   ]
  },
  {
   "cell_type": "code",
   "execution_count": 9,
   "id": "cf570ccf",
   "metadata": {},
   "outputs": [
    {
     "data": {
      "text/html": [
       "<div>\n",
       "<style scoped>\n",
       "    .dataframe tbody tr th:only-of-type {\n",
       "        vertical-align: middle;\n",
       "    }\n",
       "\n",
       "    .dataframe tbody tr th {\n",
       "        vertical-align: top;\n",
       "    }\n",
       "\n",
       "    .dataframe thead th {\n",
       "        text-align: right;\n",
       "    }\n",
       "</style>\n",
       "<table border=\"1\" class=\"dataframe\">\n",
       "  <thead>\n",
       "    <tr style=\"text-align: right;\">\n",
       "      <th></th>\n",
       "      <th>Fraud_Status</th>\n",
       "      <th>income</th>\n",
       "      <th>name_email_similarity</th>\n",
       "      <th>prev_address_months_count</th>\n",
       "      <th>current_address_months_count</th>\n",
       "      <th>customer_age</th>\n",
       "      <th>days_since_request</th>\n",
       "      <th>intended_balcon_amount</th>\n",
       "      <th>payment_type</th>\n",
       "      <th>zip_count_4w</th>\n",
       "      <th>...</th>\n",
       "      <th>has_other_cards</th>\n",
       "      <th>proposed_credit_limit</th>\n",
       "      <th>foreign_request</th>\n",
       "      <th>source</th>\n",
       "      <th>session_length_in_minutes</th>\n",
       "      <th>device_os</th>\n",
       "      <th>keep_alive_session</th>\n",
       "      <th>device_distinct_emails_8w</th>\n",
       "      <th>device_fraud_count</th>\n",
       "      <th>month</th>\n",
       "    </tr>\n",
       "  </thead>\n",
       "  <tbody>\n",
       "  </tbody>\n",
       "</table>\n",
       "<p>0 rows × 32 columns</p>\n",
       "</div>"
      ],
      "text/plain": [
       "Empty DataFrame\n",
       "Columns: [Fraud_Status, income, name_email_similarity, prev_address_months_count, current_address_months_count, customer_age, days_since_request, intended_balcon_amount, payment_type, zip_count_4w, velocity_6h, velocity_24h, velocity_4w, bank_branch_count_8w, date_of_birth_distinct_emails_4w, employment_status, credit_risk_score, email_is_free, housing_status, phone_home_valid, phone_mobile_valid, bank_months_count, has_other_cards, proposed_credit_limit, foreign_request, source, session_length_in_minutes, device_os, keep_alive_session, device_distinct_emails_8w, device_fraud_count, month]\n",
       "Index: []\n",
       "\n",
       "[0 rows x 32 columns]"
      ]
     },
     "execution_count": 9,
     "metadata": {},
     "output_type": "execute_result"
    }
   ],
   "source": [
    "df[(df[\"Fraud_Status\"] == 1) & (df[\"income\"] < 0.2)]"
   ]
  },
  {
   "cell_type": "code",
   "execution_count": 10,
   "id": "bcf70bb6",
   "metadata": {},
   "outputs": [
    {
     "data": {
      "image/png": "[encoded data removed]",
      "text/plain": [
       "<Figure size 432x288 with 1 Axes>"
      ]
     },
     "metadata": {},
     "output_type": "display_data"
    }
   ],
   "source": [
    "colors = ['#865DFF', '#FFC6D3']\n",
    "# Create a box plot of 'Income' for each 'Class'\n",
    "sns.set_style('whitegrid')\n",
    "sns.set_palette(colors)  # Pass colors to palette parameter\n",
    "sns.boxplot(x='Fraud_Status', y='income', data=df)\n",
    "\n",
    "# Add labels and a title to the plot\n",
    "plt.xlabel('Fraud status')\n",
    "plt.ylabel('Income')\n",
    "plt.title('Box Plot of Income by fraud status')\n",
    "\n",
    "# Display the plot\n",
    "plt.show()"
   ]
  },
  {
   "cell_type": "code",
   "execution_count": 11,
   "id": "f23d9970",
   "metadata": {},
   "outputs": [
    {
     "data": {
      "image/png": "[encoded data removed]",
      "text/plain": [
       "<Figure size 432x288 with 1 Axes>"
      ]
     },
     "metadata": {},
     "output_type": "display_data"
    }
   ],
   "source": [
    "colors = ['#865DFF', '#FFC6D3']\n",
    "# Create a box plot of 'name_email_similarity' for each 'Class'\n",
    "sns.set_style('whitegrid')\n",
    "sns.set_palette(colors)  # Pass colors to palette parameter\n",
    "sns.boxplot(x='Fraud_Status', y='name_email_similarity', data=df)\n",
    "\n",
    "# Add labels and a title to the plot\n",
    "plt.xlabel('Fraud status')\n",
    "plt.ylabel('name_email_similarity')\n",
    "plt.title('Box Plot of name_email_similarity by fraud status')\n",
    "\n",
    "# Display the plot\n",
    "plt.show()"
   ]
  },
  {
   "cell_type": "code",
   "execution_count": null,
   "id": "e42da512",
   "metadata": {},
   "outputs": [],
   "source": []
  },
  {
   "cell_type": "code",
   "execution_count": 12,
   "id": "d3e1aa68",
   "metadata": {},
   "outputs": [
    {
     "data": {
      "image/png": "[encoded data removed]",
      "text/plain": [
       "<Figure size 432x288 with 1 Axes>"
      ]
     },
     "metadata": {},
     "output_type": "display_data"
    }
   ],
   "source": [
    "colors = ['#865DFF', '#FFC6D3']\n",
    "# Create a box plot of 'current_address_months_count' for each 'Class'\n",
    "sns.set_style('whitegrid')\n",
    "sns.set_palette(colors)  # Pass colors to palette parameter\n",
    "sns.boxplot(x='Fraud_Status', y='current_address_months_count', data=df)\n",
    "\n",
    "# Add labels and a title to the plot\n",
    "plt.xlabel('Fraud status')\n",
    "plt.ylabel('current_address_months_count')\n",
    "plt.title('Box Plot of current_address_months_count by fraud status')\n",
    "\n",
    "# Display the plot\n",
    "plt.show()"
   ]
  },
  {
   "cell_type": "code",
   "execution_count": 13,
   "id": "579ca74f",
   "metadata": {},
   "outputs": [
    {
     "name": "stdout",
     "output_type": "stream",
     "text": [
      "Number of selected rows: 1170\n"
     ]
    }
   ],
   "source": [
    "# search for instances outside of the whiskers \n",
    "out_income= df[(df[\"Fraud_Status\"] == 1) & (df[\"current_address_months_count\"] > 230)]\n",
    "# Count the number of selected rows\n",
    "num_rows = len(out_income)\n",
    "\n",
    "# Display the number of selected rows\n",
    "print(\"Number of selected rows:\", num_rows)"
   ]
  },
  {
   "cell_type": "code",
   "execution_count": 14,
   "id": "d1864961",
   "metadata": {},
   "outputs": [
    {
     "name": "stdout",
     "output_type": "stream",
     "text": [
      "Number of selected rows: 267593\n"
     ]
    }
   ],
   "source": [
    "# search for instances outside of the whiskers \n",
    "out_income= df[(df[\"Fraud_Status\"] == 0) & (df[\"current_address_months_count\"] > 120)]\n",
    "# Count the number of selected rows\n",
    "num_rows = len(out_income)\n",
    "\n",
    "# Display the number of selected rows\n",
    "print(\"Number of selected rows:\", num_rows)"
   ]
  },
  {
   "cell_type": "code",
   "execution_count": 15,
   "id": "8c8aa49d",
   "metadata": {},
   "outputs": [],
   "source": [
    "# Replace values in the 'current_address_months_count' column with mean value of 86.6 where 'Fraud_Status' is equal to 1 and 'income' is less than 0.2\n",
    "df.loc[(df[\"Fraud_Status\"] == 1) & (df[\"current_address_months_count\"] > 230), 'current_address_months_count'] = 86.6\n",
    "\n",
    "# Replace values in the 'current_address_months_count' column with mean value of 86.6 where 'Fraud_Status' is equal to 0 and 'income' is less than 0.2\n",
    "df.loc[(df[\"Fraud_Status\"] == 0) & (df[\"current_address_months_count\"] > 120), 'current_address_months_count'] = 86.6"
   ]
  },
  {
   "cell_type": "code",
   "execution_count": null,
   "id": "7be6e1da",
   "metadata": {},
   "outputs": [],
   "source": []
  },
  {
   "cell_type": "code",
   "execution_count": 16,
   "id": "5734095b",
   "metadata": {},
   "outputs": [
    {
     "data": {
      "image/png": "[encoded data removed]",
      "text/plain": [
       "<Figure size 432x288 with 1 Axes>"
      ]
     },
     "metadata": {},
     "output_type": "display_data"
    }
   ],
   "source": [
    "colors = ['#865DFF', '#FFC6D3']\n",
    "# Create a box plot of 'customer_age' for each 'Class'\n",
    "sns.set_style('whitegrid')\n",
    "sns.set_palette(colors)  # Pass colors to palette parameter\n",
    "sns.boxplot(x='Fraud_Status', y='customer_age', data=df)\n",
    "\n",
    "# Add labels and a title to the plot\n",
    "plt.xlabel('Fraud_Status')\n",
    "plt.ylabel('customer_age')\n",
    "plt.title('Box Plot of customer_age  by Fraud_Status')\n",
    "\n",
    "# Display the plot\n",
    "plt.show()"
   ]
  },
  {
   "cell_type": "code",
   "execution_count": 17,
   "id": "15f74e19",
   "metadata": {},
   "outputs": [
    {
     "name": "stdout",
     "output_type": "stream",
     "text": [
      "Number of selected rows: 1305\n",
      "Number of selected rows: 68\n"
     ]
    }
   ],
   "source": [
    "# search for instances outside of the whiskers n\n",
    "out_income= df[(df[\"Fraud_Status\"] == 0) & (df[\"customer_age\"] > 70)]\n",
    "# Count the number of selected rows\n",
    "num_rows = len(out_income)\n",
    "\n",
    "# Display the number of selected rows\n",
    "print(\"Number of selected rows:\", num_rows)\n",
    "\n",
    "# search for instances outside of the whiskers n\n",
    "out_income= df[(df[\"Fraud_Status\"] == 1) & (df[\"customer_age\"] > 70)]\n",
    "# Count the number of selected rows\n",
    "num_rows = len(out_income)\n",
    "\n",
    "# Display the number of selected rows\n",
    "print(\"Number of selected rows:\", num_rows)"
   ]
  },
  {
   "cell_type": "code",
   "execution_count": 18,
   "id": "7b7ce0a0",
   "metadata": {},
   "outputs": [],
   "source": [
    "# Replace values in the 'customer_age' column with mean value of 33.6 where 'Fraud_Status' is equal to 1 and 'income' is less than 0.2\n",
    "df.loc[(df[\"Fraud_Status\"] == 1) & (df[\"customer_age\"] > 70), 'customer_age'] = 33.6\n",
    "\n",
    "# Replace values in the 'customer_age' column with mean value of 33.6 where 'Fraud_Status' is equal to 0 and 'income' is less than 0.2\n",
    "df.loc[(df[\"Fraud_Status\"] == 0) & (df[\"customer_age\"] > 70), 'customer_age'] = 33.6"
   ]
  },
  {
   "cell_type": "code",
   "execution_count": null,
   "id": "57c200f6",
   "metadata": {},
   "outputs": [],
   "source": []
  },
  {
   "cell_type": "code",
   "execution_count": 19,
   "id": "836aa876",
   "metadata": {},
   "outputs": [
    {
     "data": {
      "image/png": "[encoded data removed]",
      "text/plain": [
       "<Figure size 432x288 with 1 Axes>"
      ]
     },
     "metadata": {},
     "output_type": "display_data"
    }
   ],
   "source": [
    "colors = ['#865DFF', '#FFC6D3']\n",
    "# Create a box plot of 'zip_count_4w' for each 'Class'\n",
    "sns.set_style('whitegrid')\n",
    "sns.set_palette(colors)  # Pass colors to palette parameter\n",
    "sns.boxplot(x='Fraud_Status', y='zip_count_4w', data=df)\n",
    "\n",
    "# Add labels and a title to the plot\n",
    "plt.xlabel('Fraud_Status')\n",
    "plt.ylabel('zip_count_4w')\n",
    "plt.title('Box Plot of zip_count_4w  by Fraud_Status')\n",
    "\n",
    "# Display the plot\n",
    "plt.show()"
   ]
  },
  {
   "cell_type": "code",
   "execution_count": 20,
   "id": "3efdef07",
   "metadata": {},
   "outputs": [
    {
     "name": "stdout",
     "output_type": "stream",
     "text": [
      "Number of selected rows: 178869\n",
      "Number of selected rows: 2007\n"
     ]
    }
   ],
   "source": [
    "# search for instances outside of the whiskers n\n",
    "out_income= df[(df[\"Fraud_Status\"] == 0) & (df[\"zip_count_4w\"] > 2400)]\n",
    "# Count the number of selected rows\n",
    "num_rows = len(out_income)\n",
    "\n",
    "# Display the number of selected rows\n",
    "print(\"Number of selected rows:\", num_rows)\n",
    "\n",
    "# search for instances outside of the whiskers n\n",
    "out_income= df[(df[\"Fraud_Status\"] == 1) & (df[\"zip_count_4w\"] > 2500)]\n",
    "# Count the number of selected rows\n",
    "num_rows = len(out_income)\n",
    "\n",
    "# Display the number of selected rows\n",
    "print(\"Number of selected rows:\", num_rows)"
   ]
  },
  {
   "cell_type": "code",
   "execution_count": 21,
   "id": "32273948",
   "metadata": {},
   "outputs": [],
   "source": [
    "# Replace values in the 'zip_count_4w' column with mean value of 1572.7 where 'Fraud_Status' is equal to 1 and 'income' is less than 0.2\n",
    "df.loc[(df[\"Fraud_Status\"] == 1) & (df[\"zip_count_4w\"] > 2500), 'zip_count_4w'] = 1572.7\n",
    "\n",
    "# Replace values in the 'zip_count_4w' column with mean value of 1572.7 where 'Fraud_Status' is equal to 0 and 'income' is less than 0.2\n",
    "df.loc[(df[\"Fraud_Status\"] == 0) & (df[\"zip_count_4w\"] > 2400), 'zip_count_4w'] = 1572.7"
   ]
  },
  {
   "cell_type": "code",
   "execution_count": null,
   "id": "83fa99aa",
   "metadata": {},
   "outputs": [],
   "source": []
  },
  {
   "cell_type": "code",
   "execution_count": 22,
   "id": "952378b4",
   "metadata": {},
   "outputs": [
    {
     "data": {
      "image/png": "[encoded data removed]",
      "text/plain": [
       "<Figure size 432x288 with 1 Axes>"
      ]
     },
     "metadata": {},
     "output_type": "display_data"
    }
   ],
   "source": [
    "colors = ['#865DFF', '#FFC6D3']\n",
    "# Create a box plot of 'velocity_6h' for each 'Class'\n",
    "sns.set_style('whitegrid')\n",
    "sns.set_palette(colors)  # Pass colors to palette parameter\n",
    "sns.boxplot(x='Fraud_Status', y='velocity_6h', data=df)\n",
    "\n",
    "# Add labels and a title to the plot\n",
    "plt.xlabel('Fraud_Status')\n",
    "plt.ylabel('velocity_6h')\n",
    "plt.title('Box Plot of velocity_6h  by Fraud_Status')\n",
    "\n",
    "# Display the plot\n",
    "plt.show()"
   ]
  },
  {
   "cell_type": "code",
   "execution_count": 23,
   "id": "7a70d758",
   "metadata": {},
   "outputs": [
    {
     "name": "stdout",
     "output_type": "stream",
     "text": [
      "Number of selected rows: 11967\n",
      "Number of selected rows: 154\n"
     ]
    }
   ],
   "source": [
    "# search for instances outside of the whiskers n\n",
    "out_income= df[(df[\"Fraud_Status\"] == 0) & (df[\"velocity_6h\"] > 13700) ]\n",
    "# Count the number of selected rows\n",
    "num_rows = len(out_income)\n",
    "\n",
    "# Display the number of selected rows\n",
    "print(\"Number of selected rows:\", num_rows)\n",
    "\n",
    "# search for instances outside of the whiskers n\n",
    "out_income= df[(df[\"Fraud_Status\"] == 1) & (df[\"velocity_6h\"] > 13000)]\n",
    "# Count the number of selected rows\n",
    "num_rows = len(out_income)\n",
    "\n",
    "# Display the number of selected rows\n",
    "print(\"Number of selected rows:\", num_rows)"
   ]
  },
  {
   "cell_type": "code",
   "execution_count": 24,
   "id": "67d8ed41",
   "metadata": {},
   "outputs": [],
   "source": [
    "# Replace values in the 'velocity_6h' column with mean value of 5665 where 'Fraud_Status' is equal to 1 and 'income' is less than 0.2\n",
    "df.loc[(df[\"Fraud_Status\"] == 1) & (df[\"velocity_6h\"] > 13000) , 'velocity_6h'] = 5665\n",
    "\n",
    "# Replace values in the 'velocity_6h' column with mean value of 5665 where 'Fraud_Status' is equal to 0 and 'income' is less than 0.2\n",
    "df.loc[(df[\"Fraud_Status\"] == 0) & (df[\"velocity_6h\"] > 13700) , 'velocity_6h'] = 5665\n",
    "\n"
   ]
  },
  {
   "cell_type": "code",
   "execution_count": null,
   "id": "7cfc7228",
   "metadata": {},
   "outputs": [],
   "source": []
  },
  {
   "cell_type": "code",
   "execution_count": 25,
   "id": "a2987c8c",
   "metadata": {},
   "outputs": [
    {
     "data": {
      "image/png": "[encoded data removed]",
      "text/plain": [
       "<Figure size 432x288 with 1 Axes>"
      ]
     },
     "metadata": {},
     "output_type": "display_data"
    }
   ],
   "source": [
    "colors = ['#865DFF', '#FFC6D3']\n",
    "# Create a box plot of 'proposed_credit_limit' for each 'Class'\n",
    "sns.set_style('whitegrid')\n",
    "sns.set_palette(colors)  # Pass colors to palette parameter\n",
    "sns.boxplot(x='Fraud_Status', y='proposed_credit_limit', data=df)\n",
    "\n",
    "# Add labels and a title to the plot\n",
    "plt.xlabel('Fraud_Status')\n",
    "plt.ylabel('proposed_credit_limit')\n",
    "plt.title('Box Plot of proposed_credit_limit  by Fraud_Status')\n",
    "\n",
    "# Display the plot\n",
    "plt.show()"
   ]
  },
  {
   "cell_type": "code",
   "execution_count": 26,
   "id": "d9f41d69",
   "metadata": {},
   "outputs": [
    {
     "name": "stdout",
     "output_type": "stream",
     "text": [
      "Number of selected rows: 243576\n"
     ]
    }
   ],
   "source": [
    "# search for instances outside of the whiskers n\n",
    "out_income= df[(df[\"Fraud_Status\"] == 0) & (df[\"proposed_credit_limit\"] > 500)]\n",
    "# Count the number of selected rows\n",
    "num_rows = len(out_income)\n",
    "\n",
    "# Display the number of selected rows\n",
    "print(\"Number of selected rows:\", num_rows)\n",
    "\n"
   ]
  },
  {
   "cell_type": "code",
   "execution_count": 27,
   "id": "b97fda92",
   "metadata": {},
   "outputs": [],
   "source": [
    "# Replace values in the 'proposed_credit_limit' column with mean value of 515.8 where 'Fraud_Status' is equal to 0 and 'proposed_credit_limit' is greater than 500\n",
    "df.loc[(df[\"Fraud_Status\"] == 0) & (df[\"proposed_credit_limit\"] > 500), 'proposed_credit_limit'] = 515.8"
   ]
  },
  {
   "cell_type": "code",
   "execution_count": null,
   "id": "1a34ac88",
   "metadata": {},
   "outputs": [],
   "source": []
  },
  {
   "cell_type": "code",
   "execution_count": 28,
   "id": "61c70607",
   "metadata": {},
   "outputs": [
    {
     "data": {
      "image/png": "[encoded data removed]",
      "text/plain": [
       "<Figure size 432x288 with 1 Axes>"
      ]
     },
     "metadata": {},
     "output_type": "display_data"
    }
   ],
   "source": [
    "colors = ['#865DFF', '#FFC6D3']\n",
    "# Create a box plot of 'session_length_in_minutes' for each 'Class'\n",
    "sns.set_style('whitegrid')\n",
    "sns.set_palette(colors)  # Pass colors to palette parameter\n",
    "sns.boxplot(x='Fraud_Status', y='session_length_in_minutes', data=df)\n",
    "\n",
    "# Add labels and a title to the plot\n",
    "plt.xlabel('Fraud_Status')\n",
    "plt.ylabel('session_length_in_minutes')\n",
    "plt.title('Box Plot of session_length_in_minutes  by Fraud_Status')\n",
    "\n",
    "# Display the plot\n",
    "plt.show()"
   ]
  },
  {
   "cell_type": "code",
   "execution_count": 29,
   "id": "5d5fa1a4",
   "metadata": {},
   "outputs": [
    {
     "name": "stdout",
     "output_type": "stream",
     "text": [
      "Number of selected rows: 119300\n",
      "Number of selected rows: 1479\n"
     ]
    }
   ],
   "source": [
    "# search for instances outside of the whiskers n\n",
    "out_income= df[(df[\"Fraud_Status\"] == 0) & (df[\"session_length_in_minutes\"] > 14)]\n",
    "# Count the number of selected rows\n",
    "num_rows = len(out_income)\n",
    "\n",
    "# Display the number of selected rows\n",
    "print(\"Number of selected rows:\", num_rows)\n",
    "\n",
    "# search for instances outside of the whiskers n\n",
    "out_income= df[(df[\"Fraud_Status\"] == 1) & (df[\"session_length_in_minutes\"] > 14)]\n",
    "# Count the number of selected rows\n",
    "num_rows = len(out_income)\n",
    "\n",
    "# Display the number of selected rows\n",
    "print(\"Number of selected rows:\", num_rows)"
   ]
  },
  {
   "cell_type": "code",
   "execution_count": 30,
   "id": "f9a2cdc2",
   "metadata": {},
   "outputs": [],
   "source": [
    "# Replace values in the 'session_length_in_minutes' column with mean value of 7.5 where 'Fraud_Status' is equal to 1 and 'session_length_in_minutes' is less than 14\n",
    "df.loc[(df[\"Fraud_Status\"] == 1) & (df[\"session_length_in_minutes\"] > 14), 'session_length_in_minutes'] = 7.5\n",
    "\n",
    "# Replace values in the 'session_length_in_minutes' column with mean value of 7.5 where 'Fraud_Status' is equal to 0 and 'session_length_in_minutes' is less than 14\n",
    "df.loc[(df[\"Fraud_Status\"] == 0) & (df[\"session_length_in_minutes\"] > 14), 'session_length_in_minutes'] = 7.5"
   ]
  },
  {
   "cell_type": "markdown",
   "id": "838cf243",
   "metadata": {},
   "source": [
    "# Payment Mode for Fraud transactions"
   ]
  },
  {
   "cell_type": "code",
   "execution_count": 31,
   "id": "d100c5c0",
   "metadata": {},
   "outputs": [
    {
     "name": "stdout",
     "output_type": "stream",
     "text": [
      "\n",
      "Types of payment method used for Fraud transactions are ['INTERNET' 'TELEAPP']\n"
     ]
    }
   ],
   "source": [
    "Fraud_trans = df.loc[df['Fraud_Status'] == 1].source.drop_duplicates().values\n",
    "print('\\nTypes of payment method used for Fraud transactions are',Fraud_trans) "
   ]
  },
  {
   "cell_type": "markdown",
   "id": "6853a02a",
   "metadata": {},
   "source": [
    "# Analysis the fraudulent transactions "
   ]
  },
  {
   "cell_type": "code",
   "execution_count": 243,
   "id": "b4f2a988",
   "metadata": {},
   "outputs": [
    {
     "name": "stdout",
     "output_type": "stream",
     "text": [
      "\n",
      "Total number of Fradulent Transaction are:  11029\n",
      "\n",
      "Number of Fradulent Transaction via INTERNET:  10917\n",
      "\n",
      "Number of Fradulent Transaction via TELEAPP:  112\n"
     ]
    }
   ],
   "source": [
    "total_fradulent = len(df.loc[(df.Fraud_Status == 1)])\n",
    "print('\\nTotal number of Fradulent Transaction are: ',total_fradulent) #8213\n",
    "\n",
    "INTERNET= (df.loc[(df.Fraud_Status == 1)&(df.source == 'INTERNET')]) \n",
    "\n",
    "print('\\nNumber of Fradulent Transaction via INTERNET: ',len(INTERNET))  #4097\n",
    "\n",
    "TELEAPP = (df.loc[(df.Fraud_Status == 1)&(df.source == 'TELEAPP')])\n",
    "print('\\nNumber of Fradulent Transaction via TELEAPP: ', len(TELEAPP))  #4116"
   ]
  },
  {
   "cell_type": "markdown",
   "id": "5daf8b81",
   "metadata": {},
   "source": [
    "There are 11029 fraudulent transactions, with INTERNET payment method accounting for 10917 and TELEAPP 112"
   ]
  },
  {
   "cell_type": "code",
   "execution_count": 31,
   "id": "0b0e7b9f",
   "metadata": {},
   "outputs": [
    {
     "data": {
      "image/png": "[encoded data removed]",
      "text/plain": [
       "<Figure size 432x504 with 1 Axes>"
      ]
     },
     "metadata": {},
     "output_type": "display_data"
    }
   ],
   "source": [
    "#import matplotlib.pyplot as plt\n",
    "\n",
    "# Count of fraudulent transactions via INTERNET and TELEAPP\n",
    "INTERNET = df.loc[(df.Fraud_Status == 1) & (df.source == 'INTERNET')]\n",
    "TELEAPP = df.loc[(df.Fraud_Status == 1) & (df.source == 'TELEAPP')]\n",
    "\n",
    "# Data for the pie chart\n",
    "labels = ['INTERNET', 'TELEAPP']\n",
    "sizes = [len(INTERNET), len(TELEAPP)]\n",
    "#colors = ['#FFC6D3', '#865DFF']  # Set colors here\n",
    "colors = ['#865DFF', '#FFC6D3']  # Set colors here\n",
    "\n",
    "# Create a pie chart\n",
    "plt.figure(figsize=(6, 7))  # Resize the chart\n",
    "plt.pie(sizes, labels=labels, colors=colors, autopct='%1.1f%%', startangle=90)\n",
    "plt.title('Fraudulent Transactions by Payment mode',fontsize=14)\n",
    "# Add a legend to the pie chart\n",
    "plt.legend(labels, loc='best')\n",
    "plt.show()\n"
   ]
  },
  {
   "cell_type": "code",
   "execution_count": 33,
   "id": "a9ede56c",
   "metadata": {},
   "outputs": [
    {
     "data": {
      "image/png": "[encoded data removed]",
      "text/plain": [
       "<Figure size 936x648 with 2 Axes>"
      ]
     },
     "metadata": {},
     "output_type": "display_data"
    }
   ],
   "source": [
    "#f = plt.subplots(2, 1, figsize=(24,20))\n",
    "\n",
    "# Set the color map\n",
    "cmap = 'coolwarm_r'  # Change color map here\n",
    "# Entire DataFrame\n",
    "corr = df.corr()\n",
    "fig = plt.figure(figsize=(13,9))\n",
    "sns.heatmap(corr, cmap='coolwarm_r', annot_kws={'size':25})\n",
    "plt.title(\"Fraud Data Correlation Matrix \\n \", fontsize=14)\n",
    "# Display the plot\n",
    "plt.show()"
   ]
  },
  {
   "cell_type": "markdown",
   "id": "d80ab2db",
   "metadata": {},
   "source": [
    "# Feature Selection"
   ]
  },
  {
   "cell_type": "code",
   "execution_count": 35,
   "id": "01d5b23a",
   "metadata": {},
   "outputs": [
    {
     "data": {
      "text/plain": [
       "proposed_credit_limit               0.310867\n",
       "current_address_months_count        0.117891\n",
       "credit_risk_score                   0.070624\n",
       "customer_age                        0.061629\n",
       "income                              0.058785\n",
       "keep_alive_session                  0.050296\n",
       "date_of_birth_distinct_emails_4w    0.043224\n",
       "name_email_similarity               0.036720\n",
       "device_distinct_emails_8w           0.035704\n",
       "has_other_cards                     0.035156\n",
       "phone_home_valid                    0.035128\n",
       "email_is_free                       0.027758\n",
       "prev_address_months_count           0.026031\n",
       "intended_balcon_amount              0.024524\n",
       "velocity_6h                         0.018218\n",
       "foreign_request                     0.016885\n",
       "month                               0.013250\n",
       "phone_mobile_valid                  0.013180\n",
       "bank_branch_count_8w                0.011577\n",
       "velocity_4w                         0.011536\n",
       "velocity_24h                        0.011183\n",
       "zip_count_4w                        0.009539\n",
       "bank_months_count                   0.003222\n",
       "session_length_in_minutes           0.002233\n",
       "days_since_request                  0.000567\n",
       "Name: Fraud_Status, dtype: float64"
      ]
     },
     "execution_count": 35,
     "metadata": {},
     "output_type": "execute_result"
    }
   ],
   "source": [
    "#Correlation with output variable\n",
    "correlation=df.corr()\n",
    "cor_target = abs(correlation[\"Fraud_Status\"])\n",
    "#Selecting highly correlated features\n",
    "relevant_features = cor_target[cor_target < 1]\n",
    "relevant_features.sort_values(ascending=False)"
   ]
  },
  {
   "cell_type": "code",
   "execution_count": 31,
   "id": "ef8adacb",
   "metadata": {},
   "outputs": [],
   "source": [
    "# Drop the unwanted features columns from the dataframe\n",
    "df = df.drop(['days_since_request', 'session_length_in_minutes','bank_months_count','zip_count_4w'], axis=1)"
   ]
  },
  {
   "cell_type": "markdown",
   "id": "44b73757",
   "metadata": {},
   "source": [
    "# Analysis of Categorical Data"
   ]
  },
  {
   "cell_type": "code",
   "execution_count": 36,
   "id": "ac2a4755",
   "metadata": {},
   "outputs": [
    {
     "name": "stdout",
     "output_type": "stream",
     "text": [
      "payment_type\n",
      "['AA' 'AB' 'AC' 'AD' 'AE']\n",
      "employment_status\n",
      "['CA' 'CB' 'CC' 'CD' 'CE' 'CF' 'CG']\n",
      "housing_status\n",
      "['BA' 'BB' 'BC' 'BD' 'BE' 'BF' 'BG']\n",
      "source\n",
      "['INTERNET' 'TELEAPP']\n",
      "device_os\n",
      "['windows' 'other' 'linux' 'macintosh' 'x11']\n"
     ]
    }
   ],
   "source": [
    "#To identify the categorical features and the unique values\n",
    "for feature in df.select_dtypes(include = 'object').columns:\n",
    "    print(feature)\n",
    "    print (df[feature].unique())\n",
    "    "
   ]
  },
  {
   "cell_type": "code",
   "execution_count": 37,
   "id": "be2b8e18",
   "metadata": {},
   "outputs": [
    {
     "data": {
      "text/html": [
       "<div>\n",
       "<style scoped>\n",
       "    .dataframe tbody tr th:only-of-type {\n",
       "        vertical-align: middle;\n",
       "    }\n",
       "\n",
       "    .dataframe tbody tr th {\n",
       "        vertical-align: top;\n",
       "    }\n",
       "\n",
       "    .dataframe thead th {\n",
       "        text-align: right;\n",
       "    }\n",
       "</style>\n",
       "<table border=\"1\" class=\"dataframe\">\n",
       "  <thead>\n",
       "    <tr style=\"text-align: right;\">\n",
       "      <th></th>\n",
       "      <th>Fraud_Status</th>\n",
       "      <th>income</th>\n",
       "      <th>name_email_similarity</th>\n",
       "      <th>prev_address_months_count</th>\n",
       "      <th>current_address_months_count</th>\n",
       "      <th>customer_age</th>\n",
       "      <th>intended_balcon_amount</th>\n",
       "      <th>payment_type</th>\n",
       "      <th>velocity_6h</th>\n",
       "      <th>velocity_24h</th>\n",
       "      <th>...</th>\n",
       "      <th>phone_mobile_valid</th>\n",
       "      <th>has_other_cards</th>\n",
       "      <th>proposed_credit_limit</th>\n",
       "      <th>foreign_request</th>\n",
       "      <th>source</th>\n",
       "      <th>device_os</th>\n",
       "      <th>keep_alive_session</th>\n",
       "      <th>device_distinct_emails_8w</th>\n",
       "      <th>device_fraud_count</th>\n",
       "      <th>month</th>\n",
       "    </tr>\n",
       "  </thead>\n",
       "  <tbody>\n",
       "    <tr>\n",
       "      <th>0</th>\n",
       "      <td>1</td>\n",
       "      <td>0.9</td>\n",
       "      <td>0.166828</td>\n",
       "      <td>-1</td>\n",
       "      <td>88.0</td>\n",
       "      <td>50.0</td>\n",
       "      <td>-1.331345</td>\n",
       "      <td>AA</td>\n",
       "      <td>10650.765523</td>\n",
       "      <td>3134.319630</td>\n",
       "      <td>...</td>\n",
       "      <td>0</td>\n",
       "      <td>0</td>\n",
       "      <td>500.0</td>\n",
       "      <td>0</td>\n",
       "      <td>INTERNET</td>\n",
       "      <td>windows</td>\n",
       "      <td>0</td>\n",
       "      <td>1</td>\n",
       "      <td>0</td>\n",
       "      <td>7</td>\n",
       "    </tr>\n",
       "    <tr>\n",
       "      <th>1</th>\n",
       "      <td>1</td>\n",
       "      <td>0.9</td>\n",
       "      <td>0.296286</td>\n",
       "      <td>-1</td>\n",
       "      <td>144.0</td>\n",
       "      <td>50.0</td>\n",
       "      <td>-0.816224</td>\n",
       "      <td>AB</td>\n",
       "      <td>534.047319</td>\n",
       "      <td>2670.918292</td>\n",
       "      <td>...</td>\n",
       "      <td>0</td>\n",
       "      <td>0</td>\n",
       "      <td>1500.0</td>\n",
       "      <td>0</td>\n",
       "      <td>INTERNET</td>\n",
       "      <td>windows</td>\n",
       "      <td>0</td>\n",
       "      <td>1</td>\n",
       "      <td>0</td>\n",
       "      <td>7</td>\n",
       "    </tr>\n",
       "    <tr>\n",
       "      <th>2</th>\n",
       "      <td>1</td>\n",
       "      <td>0.9</td>\n",
       "      <td>0.044985</td>\n",
       "      <td>-1</td>\n",
       "      <td>132.0</td>\n",
       "      <td>40.0</td>\n",
       "      <td>-0.755728</td>\n",
       "      <td>AC</td>\n",
       "      <td>4048.534263</td>\n",
       "      <td>2893.621498</td>\n",
       "      <td>...</td>\n",
       "      <td>1</td>\n",
       "      <td>0</td>\n",
       "      <td>200.0</td>\n",
       "      <td>0</td>\n",
       "      <td>INTERNET</td>\n",
       "      <td>other</td>\n",
       "      <td>0</td>\n",
       "      <td>1</td>\n",
       "      <td>0</td>\n",
       "      <td>7</td>\n",
       "    </tr>\n",
       "    <tr>\n",
       "      <th>3</th>\n",
       "      <td>1</td>\n",
       "      <td>0.9</td>\n",
       "      <td>0.159511</td>\n",
       "      <td>-1</td>\n",
       "      <td>22.0</td>\n",
       "      <td>50.0</td>\n",
       "      <td>-1.205124</td>\n",
       "      <td>AB</td>\n",
       "      <td>3457.064063</td>\n",
       "      <td>4054.908412</td>\n",
       "      <td>...</td>\n",
       "      <td>1</td>\n",
       "      <td>1</td>\n",
       "      <td>200.0</td>\n",
       "      <td>0</td>\n",
       "      <td>INTERNET</td>\n",
       "      <td>linux</td>\n",
       "      <td>0</td>\n",
       "      <td>1</td>\n",
       "      <td>0</td>\n",
       "      <td>7</td>\n",
       "    </tr>\n",
       "    <tr>\n",
       "      <th>4</th>\n",
       "      <td>1</td>\n",
       "      <td>0.9</td>\n",
       "      <td>0.596414</td>\n",
       "      <td>-1</td>\n",
       "      <td>218.0</td>\n",
       "      <td>50.0</td>\n",
       "      <td>-0.773276</td>\n",
       "      <td>AB</td>\n",
       "      <td>5020.341679</td>\n",
       "      <td>2728.237159</td>\n",
       "      <td>...</td>\n",
       "      <td>0</td>\n",
       "      <td>0</td>\n",
       "      <td>1500.0</td>\n",
       "      <td>0</td>\n",
       "      <td>INTERNET</td>\n",
       "      <td>macintosh</td>\n",
       "      <td>1</td>\n",
       "      <td>1</td>\n",
       "      <td>0</td>\n",
       "      <td>7</td>\n",
       "    </tr>\n",
       "  </tbody>\n",
       "</table>\n",
       "<p>5 rows × 28 columns</p>\n",
       "</div>"
      ],
      "text/plain": [
       "   Fraud_Status  income  name_email_similarity  prev_address_months_count  \\\n",
       "0             1     0.9               0.166828                         -1   \n",
       "1             1     0.9               0.296286                         -1   \n",
       "2             1     0.9               0.044985                         -1   \n",
       "3             1     0.9               0.159511                         -1   \n",
       "4             1     0.9               0.596414                         -1   \n",
       "\n",
       "   current_address_months_count  customer_age  intended_balcon_amount  \\\n",
       "0                          88.0          50.0               -1.331345   \n",
       "1                         144.0          50.0               -0.816224   \n",
       "2                         132.0          40.0               -0.755728   \n",
       "3                          22.0          50.0               -1.205124   \n",
       "4                         218.0          50.0               -0.773276   \n",
       "\n",
       "  payment_type   velocity_6h  velocity_24h  ...  phone_mobile_valid  \\\n",
       "0           AA  10650.765523   3134.319630  ...                   0   \n",
       "1           AB    534.047319   2670.918292  ...                   0   \n",
       "2           AC   4048.534263   2893.621498  ...                   1   \n",
       "3           AB   3457.064063   4054.908412  ...                   1   \n",
       "4           AB   5020.341679   2728.237159  ...                   0   \n",
       "\n",
       "   has_other_cards  proposed_credit_limit foreign_request    source  \\\n",
       "0                0                  500.0               0  INTERNET   \n",
       "1                0                 1500.0               0  INTERNET   \n",
       "2                0                  200.0               0  INTERNET   \n",
       "3                1                  200.0               0  INTERNET   \n",
       "4                0                 1500.0               0  INTERNET   \n",
       "\n",
       "   device_os keep_alive_session  device_distinct_emails_8w  \\\n",
       "0    windows                  0                          1   \n",
       "1    windows                  0                          1   \n",
       "2      other                  0                          1   \n",
       "3      linux                  0                          1   \n",
       "4  macintosh                  1                          1   \n",
       "\n",
       "   device_fraud_count  month  \n",
       "0                   0      7  \n",
       "1                   0      7  \n",
       "2                   0      7  \n",
       "3                   0      7  \n",
       "4                   0      7  \n",
       "\n",
       "[5 rows x 28 columns]"
      ]
     },
     "execution_count": 37,
     "metadata": {},
     "output_type": "execute_result"
    }
   ],
   "source": [
    "df.head()"
   ]
  },
  {
   "cell_type": "markdown",
   "id": "04a09eee",
   "metadata": {},
   "source": [
    "# Data Encoding"
   ]
  },
  {
   "cell_type": "code",
   "execution_count": 33,
   "id": "836ec64b",
   "metadata": {},
   "outputs": [
    {
     "name": "stdout",
     "output_type": "stream",
     "text": [
      "copy of dataset formed\n"
     ]
    }
   ],
   "source": [
    "df1=df.copy()\n",
    "print(\"copy of dataset formed\")"
   ]
  },
  {
   "cell_type": "code",
   "execution_count": 34,
   "id": "3d8c1d1b",
   "metadata": {},
   "outputs": [],
   "source": [
    "#The categorical data needs to be converted to numerical data\n",
    "# create a BinaryEncoder object\n",
    "encoder = ce.BinaryEncoder(cols=['payment_type','employment_status','housing_status','device_os','source'])\n",
    "\n",
    "# fit and transform the data using the encoder\n",
    "df1= encoder.fit_transform(df1)"
   ]
  },
  {
   "cell_type": "code",
   "execution_count": 35,
   "id": "eec64928",
   "metadata": {},
   "outputs": [
    {
     "data": {
      "text/html": [
       "<div>\n",
       "<style scoped>\n",
       "    .dataframe tbody tr th:only-of-type {\n",
       "        vertical-align: middle;\n",
       "    }\n",
       "\n",
       "    .dataframe tbody tr th {\n",
       "        vertical-align: top;\n",
       "    }\n",
       "\n",
       "    .dataframe thead th {\n",
       "        text-align: right;\n",
       "    }\n",
       "</style>\n",
       "<table border=\"1\" class=\"dataframe\">\n",
       "  <thead>\n",
       "    <tr style=\"text-align: right;\">\n",
       "      <th></th>\n",
       "      <th>Fraud_Status</th>\n",
       "      <th>income</th>\n",
       "      <th>name_email_similarity</th>\n",
       "      <th>prev_address_months_count</th>\n",
       "      <th>current_address_months_count</th>\n",
       "      <th>customer_age</th>\n",
       "      <th>intended_balcon_amount</th>\n",
       "      <th>payment_type_0</th>\n",
       "      <th>payment_type_1</th>\n",
       "      <th>payment_type_2</th>\n",
       "      <th>...</th>\n",
       "      <th>foreign_request</th>\n",
       "      <th>source_0</th>\n",
       "      <th>source_1</th>\n",
       "      <th>device_os_0</th>\n",
       "      <th>device_os_1</th>\n",
       "      <th>device_os_2</th>\n",
       "      <th>keep_alive_session</th>\n",
       "      <th>device_distinct_emails_8w</th>\n",
       "      <th>device_fraud_count</th>\n",
       "      <th>month</th>\n",
       "    </tr>\n",
       "  </thead>\n",
       "  <tbody>\n",
       "    <tr>\n",
       "      <th>0</th>\n",
       "      <td>1</td>\n",
       "      <td>0.9</td>\n",
       "      <td>0.166828</td>\n",
       "      <td>-1</td>\n",
       "      <td>88.0</td>\n",
       "      <td>50.0</td>\n",
       "      <td>-1.331345</td>\n",
       "      <td>0</td>\n",
       "      <td>0</td>\n",
       "      <td>1</td>\n",
       "      <td>...</td>\n",
       "      <td>0</td>\n",
       "      <td>0</td>\n",
       "      <td>1</td>\n",
       "      <td>0</td>\n",
       "      <td>0</td>\n",
       "      <td>1</td>\n",
       "      <td>0</td>\n",
       "      <td>1</td>\n",
       "      <td>0</td>\n",
       "      <td>7</td>\n",
       "    </tr>\n",
       "    <tr>\n",
       "      <th>1</th>\n",
       "      <td>1</td>\n",
       "      <td>0.9</td>\n",
       "      <td>0.296286</td>\n",
       "      <td>-1</td>\n",
       "      <td>144.0</td>\n",
       "      <td>50.0</td>\n",
       "      <td>-0.816224</td>\n",
       "      <td>0</td>\n",
       "      <td>1</td>\n",
       "      <td>0</td>\n",
       "      <td>...</td>\n",
       "      <td>0</td>\n",
       "      <td>0</td>\n",
       "      <td>1</td>\n",
       "      <td>0</td>\n",
       "      <td>0</td>\n",
       "      <td>1</td>\n",
       "      <td>0</td>\n",
       "      <td>1</td>\n",
       "      <td>0</td>\n",
       "      <td>7</td>\n",
       "    </tr>\n",
       "    <tr>\n",
       "      <th>2</th>\n",
       "      <td>1</td>\n",
       "      <td>0.9</td>\n",
       "      <td>0.044985</td>\n",
       "      <td>-1</td>\n",
       "      <td>132.0</td>\n",
       "      <td>40.0</td>\n",
       "      <td>-0.755728</td>\n",
       "      <td>0</td>\n",
       "      <td>1</td>\n",
       "      <td>1</td>\n",
       "      <td>...</td>\n",
       "      <td>0</td>\n",
       "      <td>0</td>\n",
       "      <td>1</td>\n",
       "      <td>0</td>\n",
       "      <td>1</td>\n",
       "      <td>0</td>\n",
       "      <td>0</td>\n",
       "      <td>1</td>\n",
       "      <td>0</td>\n",
       "      <td>7</td>\n",
       "    </tr>\n",
       "    <tr>\n",
       "      <th>3</th>\n",
       "      <td>1</td>\n",
       "      <td>0.9</td>\n",
       "      <td>0.159511</td>\n",
       "      <td>-1</td>\n",
       "      <td>22.0</td>\n",
       "      <td>50.0</td>\n",
       "      <td>-1.205124</td>\n",
       "      <td>0</td>\n",
       "      <td>1</td>\n",
       "      <td>0</td>\n",
       "      <td>...</td>\n",
       "      <td>0</td>\n",
       "      <td>0</td>\n",
       "      <td>1</td>\n",
       "      <td>0</td>\n",
       "      <td>1</td>\n",
       "      <td>1</td>\n",
       "      <td>0</td>\n",
       "      <td>1</td>\n",
       "      <td>0</td>\n",
       "      <td>7</td>\n",
       "    </tr>\n",
       "    <tr>\n",
       "      <th>4</th>\n",
       "      <td>1</td>\n",
       "      <td>0.9</td>\n",
       "      <td>0.596414</td>\n",
       "      <td>-1</td>\n",
       "      <td>218.0</td>\n",
       "      <td>50.0</td>\n",
       "      <td>-0.773276</td>\n",
       "      <td>0</td>\n",
       "      <td>1</td>\n",
       "      <td>0</td>\n",
       "      <td>...</td>\n",
       "      <td>0</td>\n",
       "      <td>0</td>\n",
       "      <td>1</td>\n",
       "      <td>1</td>\n",
       "      <td>0</td>\n",
       "      <td>0</td>\n",
       "      <td>1</td>\n",
       "      <td>1</td>\n",
       "      <td>0</td>\n",
       "      <td>7</td>\n",
       "    </tr>\n",
       "  </tbody>\n",
       "</table>\n",
       "<p>5 rows × 37 columns</p>\n",
       "</div>"
      ],
      "text/plain": [
       "   Fraud_Status  income  name_email_similarity  prev_address_months_count  \\\n",
       "0             1     0.9               0.166828                         -1   \n",
       "1             1     0.9               0.296286                         -1   \n",
       "2             1     0.9               0.044985                         -1   \n",
       "3             1     0.9               0.159511                         -1   \n",
       "4             1     0.9               0.596414                         -1   \n",
       "\n",
       "   current_address_months_count  customer_age  intended_balcon_amount  \\\n",
       "0                          88.0          50.0               -1.331345   \n",
       "1                         144.0          50.0               -0.816224   \n",
       "2                         132.0          40.0               -0.755728   \n",
       "3                          22.0          50.0               -1.205124   \n",
       "4                         218.0          50.0               -0.773276   \n",
       "\n",
       "   payment_type_0  payment_type_1  payment_type_2  ...  foreign_request  \\\n",
       "0               0               0               1  ...                0   \n",
       "1               0               1               0  ...                0   \n",
       "2               0               1               1  ...                0   \n",
       "3               0               1               0  ...                0   \n",
       "4               0               1               0  ...                0   \n",
       "\n",
       "   source_0  source_1  device_os_0  device_os_1  device_os_2  \\\n",
       "0         0         1            0            0            1   \n",
       "1         0         1            0            0            1   \n",
       "2         0         1            0            1            0   \n",
       "3         0         1            0            1            1   \n",
       "4         0         1            1            0            0   \n",
       "\n",
       "   keep_alive_session  device_distinct_emails_8w  device_fraud_count  month  \n",
       "0                   0                          1                   0      7  \n",
       "1                   0                          1                   0      7  \n",
       "2                   0                          1                   0      7  \n",
       "3                   0                          1                   0      7  \n",
       "4                   1                          1                   0      7  \n",
       "\n",
       "[5 rows x 37 columns]"
      ]
     },
     "execution_count": 35,
     "metadata": {},
     "output_type": "execute_result"
    }
   ],
   "source": [
    "df1.head()"
   ]
  },
  {
   "cell_type": "markdown",
   "id": "c420ae12",
   "metadata": {},
   "source": [
    "# Splitting Data"
   ]
  },
  {
   "cell_type": "code",
   "execution_count": 36,
   "id": "777af83c",
   "metadata": {},
   "outputs": [],
   "source": [
    "y = df1.Fraud_Status\n",
    "x = df1.drop([\"Fraud_Status\"],axis = 1)\n",
    "columns = x.columns.tolist()"
   ]
  },
  {
   "cell_type": "code",
   "execution_count": 37,
   "id": "9fa28b99",
   "metadata": {},
   "outputs": [],
   "source": [
    "X_train, X_test, Y_train, Y_test = train_test_split(x, y, test_size = 0.2, random_state = 42)"
   ]
  },
  {
   "cell_type": "code",
   "execution_count": 38,
   "id": "e571dd3f",
   "metadata": {},
   "outputs": [],
   "source": [
    "X_train_df = pd.DataFrame(X_train, columns = columns)\n",
    "X_train_df_describe = X_train_df.describe()\n",
    "X_train_df[\"Fraud_Status\"] = Y_train"
   ]
  },
  {
   "cell_type": "code",
   "execution_count": 39,
   "id": "06b576bc",
   "metadata": {},
   "outputs": [],
   "source": [
    "scaler = StandardScaler()\n",
    "X_train = scaler.fit_transform(X_train)\n",
    "X_test = scaler.transform(X_test)\n"
   ]
  },
  {
   "cell_type": "markdown",
   "id": "8f00c2e0",
   "metadata": {},
   "source": [
    "# Algorithm Modelling"
   ]
  },
  {
   "cell_type": "markdown",
   "id": "28ff624e",
   "metadata": {},
   "source": [
    "# Logistic Regression Model"
   ]
  },
  {
   "cell_type": "code",
   "execution_count": 39,
   "id": "2a422dcb",
   "metadata": {},
   "outputs": [
    {
     "name": "stdout",
     "output_type": "stream",
     "text": [
      "Accuracy: 0.993575\n",
      "Confusion Matrix: [[197769      7]\n",
      " [  1278    946]]\n"
     ]
    }
   ],
   "source": [
    "# Create Logistics Regression classifier\n",
    "lg = LogisticRegression(solver='liblinear')\n",
    "\n",
    "# Train the classifier\n",
    "lg.fit(X_train, Y_train)\n",
    "\n",
    "# Make predictions on the testing set\n",
    "y_pred_lg = lg.predict(X_test)\n",
    "\n",
    "y_pred_lg1 = lg.predict_proba(X_test)[:, 1]\n",
    "fpr_lg, tpr_lg, thresholds_lg = roc_curve(Y_test, y_pred_lg1)\n",
    "auc_lg = roc_auc_score(Y_test, y_pred_lg1)\n",
    "\n",
    "# Evaluate the model\n",
    "print('Accuracy:', accuracy_score(Y_test, y_pred_lg))\n",
    "print('Confusion Matrix:', confusion_matrix(Y_test, y_pred_lg))"
   ]
  },
  {
   "cell_type": "code",
   "execution_count": 46,
   "id": "6897bca6",
   "metadata": {},
   "outputs": [
    {
     "name": "stdout",
     "output_type": "stream",
     "text": [
      "              precision    recall  f1-score   support\n",
      "\n",
      "           0       0.99      1.00      1.00    197776\n",
      "           1       0.99      0.43      0.60      2224\n",
      "\n",
      "    accuracy                           0.99    200000\n",
      "   macro avg       0.99      0.71      0.80    200000\n",
      "weighted avg       0.99      0.99      0.99    200000\n",
      "\n"
     ]
    }
   ],
   "source": [
    "\n",
    "print(classification_report(Y_test, y_pred_lg))"
   ]
  },
  {
   "cell_type": "markdown",
   "id": "39c8d49e",
   "metadata": {},
   "source": [
    "# Random Forest Classifier"
   ]
  },
  {
   "cell_type": "code",
   "execution_count": 41,
   "id": "1b8b0032",
   "metadata": {},
   "outputs": [
    {
     "name": "stdout",
     "output_type": "stream",
     "text": [
      "Accuracy: 0.99537\n",
      "Confusion Matrix: [[197776      0]\n",
      " [   926   1298]]\n"
     ]
    }
   ],
   "source": [
    "# Create random forest classifier\n",
    "rf = RandomForestClassifier(n_estimators=100, random_state=42)\n",
    "\n",
    "# Train the classifier\n",
    "rf.fit(X_train, Y_train)\n",
    "\n",
    "# Make predictions on the testing set\n",
    "y_pred_rf = rf.predict(X_test)\n",
    "\n",
    "y_pred_rf1 = rf.predict_proba(X_test)[:, 1]\n",
    "fpr_rf, tpr_rf, thresholds_rf = roc_curve(Y_test, y_pred_rf1)\n",
    "auc_rf = roc_auc_score(Y_test, y_pred_rf1)\n",
    "\n",
    "# Evaluate the model\n",
    "print('Accuracy:', accuracy_score(Y_test, y_pred_rf))\n",
    "print('Confusion Matrix:', confusion_matrix(Y_test, y_pred_rf))"
   ]
  },
  {
   "cell_type": "code",
   "execution_count": 47,
   "id": "3a1d3cb0",
   "metadata": {},
   "outputs": [
    {
     "name": "stdout",
     "output_type": "stream",
     "text": [
      "              precision    recall  f1-score   support\n",
      "\n",
      "           0       1.00      1.00      1.00    197776\n",
      "           1       1.00      0.58      0.74      2224\n",
      "\n",
      "    accuracy                           1.00    200000\n",
      "   macro avg       1.00      0.79      0.87    200000\n",
      "weighted avg       1.00      1.00      0.99    200000\n",
      "\n"
     ]
    }
   ],
   "source": [
    "# Evaluate the performance of the model\n",
    "print(classification_report(Y_test, y_pred_rf))"
   ]
  },
  {
   "cell_type": "markdown",
   "id": "4efade01",
   "metadata": {},
   "source": [
    "# Extreme Gradient Boosting Accuracy"
   ]
  },
  {
   "cell_type": "code",
   "execution_count": 40,
   "id": "ea6f751b",
   "metadata": {},
   "outputs": [
    {
     "name": "stdout",
     "output_type": "stream",
     "text": [
      "CM:  [[197776      0]\n",
      " [   892   1332]]\n",
      "Extreme Gradient Boosting Accuracy:  0.99554\n"
     ]
    }
   ],
   "source": [
    "# Define XGBoost model\n",
    "import xgboost as xgb\n",
    "xgb = xgb.XGBClassifier(n_estimators=100,random_state=42, max_depth=5, learning_rate=0.1, objective='binary:logistic')\n",
    "\n",
    "# Train model on training set\n",
    "xgb.fit(X_train, Y_train)\n",
    "\n",
    "y_pred_xgb1 = xgb.predict_proba(X_test)[:, 1]\n",
    "fpr_xgb1, tpr_xgb1, thresholds_xgb1 = roc_curve(Y_test, y_pred_xgb1)\n",
    "auc_xgb1 = roc_auc_score(Y_test, y_pred_xgb1)\n",
    "\n",
    "\n",
    "# Make predictions on testing set\n",
    "y_pred_xgb = xgb.predict(X_test)\n",
    "cmatrix = confusion_matrix(Y_test, y_pred_xgb)\n",
    "accuracy = accuracy_score(Y_test, y_pred_xgb)\n",
    "print(\"CM: \",cmatrix)\n",
    "print(\"Extreme Gradient Boosting Accuracy: \",accuracy)"
   ]
  },
  {
   "cell_type": "code",
   "execution_count": 48,
   "id": "7721cf56",
   "metadata": {},
   "outputs": [
    {
     "name": "stdout",
     "output_type": "stream",
     "text": [
      "              precision    recall  f1-score   support\n",
      "\n",
      "           0       1.00      1.00      1.00    197776\n",
      "           1       1.00      0.60      0.75      2224\n",
      "\n",
      "    accuracy                           1.00    200000\n",
      "   macro avg       1.00      0.80      0.87    200000\n",
      "weighted avg       1.00      1.00      0.99    200000\n",
      "\n"
     ]
    }
   ],
   "source": [
    "# Evaluate the performance of the model\n",
    "print(classification_report(Y_test, y_pred_xgb))"
   ]
  },
  {
   "cell_type": "markdown",
   "id": "26ca046b",
   "metadata": {},
   "source": [
    "# KNN"
   ]
  },
  {
   "cell_type": "code",
   "execution_count": 45,
   "id": "166d80bc",
   "metadata": {},
   "outputs": [
    {
     "name": "stdout",
     "output_type": "stream",
     "text": [
      "KNN Accuracy: 0.99369\n",
      "Confusion Matrix: [[197768      8]\n",
      " [  1254    970]]\n"
     ]
    }
   ],
   "source": [
    "# Create decision tree classifier\n",
    "knn = KNeighborsClassifier()\n",
    "\n",
    "# Train the classifier\n",
    "knn.fit(X_train, Y_train)\n",
    "\n",
    "# Make predictions on the testing set\n",
    "y_pred_knn = knn.predict(X_test)\n",
    "\n",
    "y_pred_knn1 = knn.predict_proba(X_test)[:, 1]\n",
    "fpr_knn, tpr_knn, thresholds_knn = roc_curve(Y_test, y_pred_knn1)\n",
    "auc_knn = roc_auc_score(Y_test, y_pred_knn1)\n",
    "\n",
    "# Evaluate the model\n",
    "print('KNN Accuracy:', accuracy_score(Y_test, y_pred_knn))\n",
    "print('Confusion Matrix:', confusion_matrix(Y_test, y_pred_knn))"
   ]
  },
  {
   "cell_type": "code",
   "execution_count": 49,
   "id": "54f55402",
   "metadata": {},
   "outputs": [
    {
     "name": "stdout",
     "output_type": "stream",
     "text": [
      "              precision    recall  f1-score   support\n",
      "\n",
      "           0       0.99      1.00      1.00    197776\n",
      "           1       0.99      0.44      0.61      2224\n",
      "\n",
      "    accuracy                           0.99    200000\n",
      "   macro avg       0.99      0.72      0.80    200000\n",
      "weighted avg       0.99      0.99      0.99    200000\n",
      "\n"
     ]
    }
   ],
   "source": [
    "# Evaluate the performance of the model\n",
    "print(classification_report(Y_test, y_pred_knn))"
   ]
  },
  {
   "cell_type": "code",
   "execution_count": 192,
   "id": "0ab21b09",
   "metadata": {},
   "outputs": [
    {
     "data": {
      "image/png": "[encoded data removed]",
      "text/plain": [
       "<Figure size 576x432 with 1 Axes>"
      ]
     },
     "metadata": {},
     "output_type": "display_data"
    }
   ],
   "source": [
    "# Define the colors for the bars\n",
    "colors = ['#865DFF', '#61876E', '#FE6244']  # Update colors here \n",
    "\n",
    "# Compute classification report\n",
    "report = classification_report(Y_test, y_pred_xgb, output_dict=True)\n",
    "precision = report['1']['precision']\n",
    "recall = report['1']['recall']\n",
    "f1_score = report['1']['f1-score']\n",
    "\n",
    "# Create a bar chart\n",
    "labels = ['Precision', 'Recall', 'F1-score']\n",
    "scores = [precision, recall, f1_score]\n",
    "x = np.arange(len(labels))\n",
    "\n",
    "# Increase size of chart\n",
    "plt.figure(figsize=(8, 6))\n",
    "\n",
    "plt.bar(x, scores, color=colors)  # Update color parameter\n",
    "plt.xticks(x, labels)\n",
    "plt.ylabel('Scores')\n",
    "plt.title('XGBoost Model Performance')\n",
    "plt.show()\n"
   ]
  },
  {
   "cell_type": "markdown",
   "id": "c7d0e958",
   "metadata": {},
   "source": [
    "# Evaluate the performance using ROC AUC score"
   ]
  },
  {
   "cell_type": "code",
   "execution_count": 50,
   "id": "6a88079f",
   "metadata": {},
   "outputs": [
    {
     "data": {
      "image/png": "[encoded data removed]",
      "text/plain": [
       "<Figure size 432x288 with 1 Axes>"
      ]
     },
     "metadata": {},
     "output_type": "display_data"
    }
   ],
   "source": [
    "# Plot the AUC for each modelplt.figure(figsize=(8, 6))\n",
    "plt.plot([0, 1], [0, 1], 'k--', label='Random')\n",
    "plt.plot(fpr_lg, tpr_lg, label=f'Logistic Regression (AUC = {auc_lg:.2f})')\n",
    "plt.plot(fpr_rf, tpr_rf, label=f'Random Forest (AUC = {auc_rf:.2f})')\n",
    "plt.plot(fpr_xgb1, tpr_xgb1, label=f'XGBoost (AUC = {auc_xgb1:.2f})')\n",
    "plt.plot(fpr_knn, tpr_knn, label=f'KNN (AUC = {auc_knn:.2f})')\n",
    "plt.xlabel('False Positive Rate')\n",
    "plt.ylabel('True Positive Rate')\n",
    "plt.title('Receiver Operating Characteristic (ROC) Curve')\n",
    "plt.legend()\n",
    "plt.show()"
   ]
  },
  {
   "cell_type": "code",
   "execution_count": 41,
   "id": "81a75a45",
   "metadata": {},
   "outputs": [],
   "source": [
    "# Calculate confusion matrix\n",
    "tn, fp, fn, tp = confusion_matrix(Y_test, y_pred_xgb).ravel()"
   ]
  },
  {
   "cell_type": "code",
   "execution_count": 42,
   "id": "798e0618",
   "metadata": {},
   "outputs": [
    {
     "name": "stdout",
     "output_type": "stream",
     "text": [
      "FAR: 0.0\n",
      "BCR: 0.7994604316546763\n"
     ]
    }
   ],
   "source": [
    "# Calculate FAR, BCR, and MCC\n",
    "far = fp / (fp + tn)\n",
    "bcr = 1 - ((fp / (fp + tn)) + (fn / (fn + tp))) / 2\n",
    "#mcc = ((tp * tn) - (fp * fn)) / (((tp + fp) * (tp + fn) * (tn + fp) * (tn + fn)) ** 0.5)\n",
    "\n",
    "\n",
    "print(\"FAR:\", far)\n",
    "print(\"BCR:\", bcr)"
   ]
  },
  {
   "cell_type": "markdown",
   "id": "97a1b234",
   "metadata": {},
   "source": [
    "# Resolving Class Imbalance Using SMOTE"
   ]
  },
  {
   "cell_type": "code",
   "execution_count": 43,
   "id": "c5d8b89d",
   "metadata": {},
   "outputs": [
    {
     "name": "stdout",
     "output_type": "stream",
     "text": [
      "copy of dataset formed\n"
     ]
    }
   ],
   "source": [
    "df_Smote=df.copy()\n",
    "print(\"copy of dataset formed\")"
   ]
  },
  {
   "cell_type": "code",
   "execution_count": 44,
   "id": "5036c5b3",
   "metadata": {},
   "outputs": [],
   "source": [
    "# create a BinaryEncoder object\n",
    "encoder = ce.BinaryEncoder(cols=['payment_type','employment_status','housing_status','device_os','source'])\n",
    "\n",
    "# fit and transform the data using the encoder\n",
    "df_Smote= encoder.fit_transform(df_Smote)"
   ]
  },
  {
   "cell_type": "code",
   "execution_count": 45,
   "id": "a8f41494",
   "metadata": {},
   "outputs": [],
   "source": [
    "# Split the data into features and target\n",
    "y = df_Smote.Fraud_Status\n",
    "x = df_Smote.drop([\"Fraud_Status\"],axis = 1)\n",
    "columns = x.columns.tolist()"
   ]
  },
  {
   "cell_type": "code",
   "execution_count": 46,
   "id": "e313f5fc",
   "metadata": {},
   "outputs": [],
   "source": [
    "# Split data into training and testing sets\n",
    "X_train_Smote, X_test_Smote, y_train_Smote, y_test_Smote = train_test_split(x, y, test_size=0.3, random_state=42)\n"
   ]
  },
  {
   "cell_type": "markdown",
   "id": "c7a30f30",
   "metadata": {},
   "source": [
    "# Apply SMOTE to the training set"
   ]
  },
  {
   "cell_type": "code",
   "execution_count": 47,
   "id": "580edb7c",
   "metadata": {},
   "outputs": [],
   "source": [
    "scaler = StandardScaler()\n",
    "X_train_Smote = scaler.fit_transform(X_train_Smote)\n",
    "X_test_Smote = scaler.transform(X_test_Smote)"
   ]
  },
  {
   "cell_type": "code",
   "execution_count": 48,
   "id": "edfa3b47",
   "metadata": {},
   "outputs": [],
   "source": [
    "# Instantiate SMOTE and oversample the minority class\n",
    "sm = SMOTE(random_state=42)\n",
    "X_train_Smote, y_train_Smote = sm.fit_resample(X_train_Smote, y_train_Smote)"
   ]
  },
  {
   "cell_type": "markdown",
   "id": "2bb50ae2",
   "metadata": {},
   "source": [
    "# Logistic Regression Model After SMOTE"
   ]
  },
  {
   "cell_type": "code",
   "execution_count": 49,
   "id": "c9a27539",
   "metadata": {},
   "outputs": [
    {
     "name": "stdout",
     "output_type": "stream",
     "text": [
      "Accuracy: 0.8659633333333333\n",
      "Confusion Matrix: [[257098  39535]\n",
      " [   676   2691]]\n"
     ]
    }
   ],
   "source": [
    "# Train a logistic regression model on the oversampled data\n",
    "lg = LogisticRegression(solver='liblinear')\n",
    "\n",
    "# Train the classifier\n",
    "lg.fit(X_train_Smote, y_train_Smote)\n",
    "\n",
    "# Make predictions on the testing set\n",
    "y_pred_smote_lg = lg.predict(X_test_Smote)\n",
    "\n",
    "y_pred_lg_smote1 = lg.predict_proba(X_test_Smote)[:, 1]\n",
    "fpr_lg_smote, tpr_lg_smote, thresholds_lg_smote = roc_curve(y_test_Smote, y_pred_lg_smote1)\n",
    "auc_lg_smote = roc_auc_score(y_test_Smote, y_pred_lg_smote1)\n",
    "\n",
    "# Evaluate the model\n",
    "print('Accuracy:', accuracy_score(y_test_Smote, y_pred_smote_lg))\n",
    "print('Confusion Matrix:', confusion_matrix(y_test_Smote, y_pred_smote_lg))"
   ]
  },
  {
   "cell_type": "code",
   "execution_count": 50,
   "id": "ef796472",
   "metadata": {},
   "outputs": [
    {
     "name": "stdout",
     "output_type": "stream",
     "text": [
      "              precision    recall  f1-score   support\n",
      "\n",
      "           0       1.00      0.87      0.93    296633\n",
      "           1       0.06      0.80      0.12      3367\n",
      "\n",
      "    accuracy                           0.87    300000\n",
      "   macro avg       0.53      0.83      0.52    300000\n",
      "weighted avg       0.99      0.87      0.92    300000\n",
      "\n"
     ]
    }
   ],
   "source": [
    "print(classification_report(y_test_Smote, y_pred_smote_lg))"
   ]
  },
  {
   "cell_type": "code",
   "execution_count": null,
   "id": "1e923d8b",
   "metadata": {},
   "outputs": [],
   "source": []
  },
  {
   "cell_type": "markdown",
   "id": "6f2f3705",
   "metadata": {},
   "source": [
    "# Random forest classifier after SMOTE"
   ]
  },
  {
   "cell_type": "code",
   "execution_count": 51,
   "id": "52992818",
   "metadata": {},
   "outputs": [
    {
     "name": "stdout",
     "output_type": "stream",
     "text": [
      "Accuracy: 0.9946066666666666\n",
      "Confusion Matrix: [[296369    264]\n",
      " [  1354   2013]]\n"
     ]
    }
   ],
   "source": [
    "# Create random forest classifier\n",
    "rf = RandomForestClassifier(n_estimators=100, random_state=42)\n",
    "\n",
    "# Train the classifier\n",
    "rf.fit(X_train_Smote, y_train_Smote)\n",
    "\n",
    "# Make predictions on the testing set\n",
    "y_pred_Smote_rf = rf.predict(X_test_Smote)\n",
    "\n",
    "y_pred_Smote_rf1 = rf.predict_proba(X_test_Smote)[:, 1]\n",
    "fpr_rf_smote, tpr_rf_smote, thresholds_rf = roc_curve(y_test_Smote, y_pred_Smote_rf1)\n",
    "auc_rf_smote = roc_auc_score(y_test_Smote, y_pred_Smote_rf1) \n",
    "\n",
    "# Evaluate the model\n",
    "print('Accuracy:', accuracy_score(y_test_Smote, y_pred_Smote_rf))\n",
    "print('Confusion Matrix:', confusion_matrix(y_test_Smote, y_pred_Smote_rf))"
   ]
  },
  {
   "cell_type": "code",
   "execution_count": 52,
   "id": "6e622ca7",
   "metadata": {},
   "outputs": [
    {
     "name": "stdout",
     "output_type": "stream",
     "text": [
      "              precision    recall  f1-score   support\n",
      "\n",
      "           0       1.00      1.00      1.00    296633\n",
      "           1       0.88      0.60      0.71      3367\n",
      "\n",
      "    accuracy                           0.99    300000\n",
      "   macro avg       0.94      0.80      0.86    300000\n",
      "weighted avg       0.99      0.99      0.99    300000\n",
      "\n"
     ]
    }
   ],
   "source": [
    "# Evaluate the performance of the model\n",
    "print(classification_report(y_test_Smote, y_pred_Smote_rf))"
   ]
  },
  {
   "cell_type": "markdown",
   "id": "c1209557",
   "metadata": {},
   "source": [
    "# Extreme Gradient Boosting After SMOTE"
   ]
  },
  {
   "cell_type": "code",
   "execution_count": 53,
   "id": "0b04eb4f",
   "metadata": {},
   "outputs": [
    {
     "name": "stdout",
     "output_type": "stream",
     "text": [
      "Extreme Gradient Boosting Accuracy: 0.9907466666666667\n",
      "Extreme Gradient Boosting Confusion Matrix: [[294974   1659]\n",
      " [  1117   2250]]\n"
     ]
    }
   ],
   "source": [
    "# Create gradient boosting classifier\n",
    "import xgboost as xgb\n",
    "xgb = xgb.XGBClassifier(n_estimators=100,random_state=42, max_depth=5, learning_rate=0.1, objective='binary:logistic')\n",
    "\n",
    "# Train the gradient boosting classifier\n",
    "xgb.fit(X_train_Smote, y_train_Smote)\n",
    "\n",
    "# Make predictions on the testing set using the gradient boosting classifier\n",
    "y_pred_xgb_Smote = xgb.predict(X_test_Smote)\n",
    "\n",
    "y_pred_xgb_Smote1 = xgb.predict_proba(X_test_Smote)[:, 1]\n",
    "fpr_xgb_smote, tpr_xgb_smote, thresholds_xgb_smote = roc_curve(y_test_Smote, y_pred_xgb_Smote1)\n",
    "auc_xgb_smote = roc_auc_score(y_test_Smote, y_pred_xgb_Smote1) \n",
    "\n",
    "\n",
    "# Evaluate the models\n",
    "print('Extreme Gradient Boosting Accuracy:', accuracy_score(y_test_Smote, y_pred_xgb_Smote))\n",
    "print('Extreme Gradient Boosting Confusion Matrix:', confusion_matrix(y_test_Smote, y_pred_xgb_Smote))"
   ]
  },
  {
   "cell_type": "code",
   "execution_count": 54,
   "id": "1d621495",
   "metadata": {},
   "outputs": [
    {
     "name": "stdout",
     "output_type": "stream",
     "text": [
      "              precision    recall  f1-score   support\n",
      "\n",
      "           0       1.00      0.99      1.00    296633\n",
      "           1       0.58      0.67      0.62      3367\n",
      "\n",
      "    accuracy                           0.99    300000\n",
      "   macro avg       0.79      0.83      0.81    300000\n",
      "weighted avg       0.99      0.99      0.99    300000\n",
      "\n"
     ]
    }
   ],
   "source": [
    "# Evaluate the performance of the model\n",
    "print(classification_report(y_test_Smote, y_pred_xgb_Smote))"
   ]
  },
  {
   "cell_type": "markdown",
   "id": "32f88a78",
   "metadata": {},
   "source": [
    "# KNeighborsClassifier After SMOTE"
   ]
  },
  {
   "cell_type": "code",
   "execution_count": null,
   "id": "86cf491a",
   "metadata": {},
   "outputs": [],
   "source": [
    "# Create KNeighborsClassifier\n",
    "knn = KNeighborsClassifier()\n",
    "\n",
    "# Train the classifier\n",
    "knn.fit(X_train_Smote, y_train_Smote)\n",
    "\n",
    "# Make predictions on the testing set\n",
    "y_pred_Smote_knn = knn.predict(X_test_Smote)\n",
    "\n",
    "y_pred_Smote_knn1 = knn.predict_proba(X_test_Smote)[:, 1]\n",
    "fpr_knn_smote, tpr__knn_smote, thresholds_knn_smote = roc_curve(y_test_Smote, y_pred_Smote_knn1)\n",
    "auc_knn_smote = roc_auc_score(y_test_Smote, y_pred_Smote_knn1) \n",
    "\n",
    "# Evaluate the model\n",
    "print('Accuracy:', accuracy_score(y_test_Smote, y_pred_Smote_knn))\n",
    "print('Confusion Matrix:', confusion_matrix(y_test_Smote, y_pred_Smote_knn))"
   ]
  },
  {
   "cell_type": "code",
   "execution_count": 103,
   "id": "e9ca2009",
   "metadata": {},
   "outputs": [
    {
     "name": "stdout",
     "output_type": "stream",
     "text": [
      "              precision    recall  f1-score   support\n",
      "\n",
      "           0       1.00      0.96      0.98    296633\n",
      "           1       0.14      0.61      0.23      3367\n",
      "\n",
      "    accuracy                           0.95    300000\n",
      "   macro avg       0.57      0.78      0.60    300000\n",
      "weighted avg       0.99      0.95      0.97    300000\n",
      "\n"
     ]
    }
   ],
   "source": [
    "# Evaluate the performance of the model\n",
    "print(classification_report(y_test_Smote, y_pred_Smote_knn))"
   ]
  },
  {
   "cell_type": "markdown",
   "id": "e1473409",
   "metadata": {},
   "source": [
    "# ROC AUC score Using SMOTE\n"
   ]
  },
  {
   "cell_type": "code",
   "execution_count": 147,
   "id": "71e66cb7",
   "metadata": {},
   "outputs": [
    {
     "data": {
      "image/png": "[encoded data removed]",
      "text/plain": [
       "<Figure size 432x288 with 1 Axes>"
      ]
     },
     "metadata": {},
     "output_type": "display_data"
    }
   ],
   "source": [
    "# Plot the AUC for each modelplt.figure(figsize=(8, 6))\n",
    "plt.plot([0, 1], [0, 1], 'k--', label='Random')\n",
    "plt.plot(fpr_lg_smote, tpr_lg_smote, label=f'Logistic Regression (AUC = {auc_lg_smote:.2f})')\n",
    "plt.plot(fpr_rf_smote, tpr_rf_smote, label=f'Random Forest (AUC = {auc_rf_smote:.2f})')\n",
    "plt.plot(fpr_xgb_smote, tpr_xgb_smote, label=f'XGBoost (AUC = {auc_xgb_smote:.2f})')\n",
    "#plt.plot(fpr_knn_smote, tpr_knn_smote, label=f'KNN (AUC = {auc_knn:.2f})')\n",
    "plt.xlabel('False Positive Rate')\n",
    "plt.ylabel('True Positive Rate')\n",
    "plt.title('Receiver Operating Characteristic (ROC) Curve')\n",
    "plt.legend()\n",
    "plt.show()"
   ]
  },
  {
   "cell_type": "code",
   "execution_count": null,
   "id": "f1b00abb",
   "metadata": {},
   "outputs": [],
   "source": [
    "plt.figure(figsize=(8, 6))\n",
    "plt.plot([0, 1], [0, 1], 'k--', label='Random')\n",
    "plt.plot(fpr_lg_smote, tpr_lg_smote, color='blue', label=f'Logistic Regression (AUC = {auc_lg_smote:.2f})')\n",
    "plt.plot(fpr_rf_smote, tpr_rf_smote, color='red', label=f'Random Forest (AUC = {auc_rf_smote:.2f})')\n",
    "plt.plot(fpr_xgb_smote, tpr_xgb_smote, color='green', label=f'XGBoost (AUC = {auc_xgb_smote:.2f})')\n",
    "#plt.plot(fpr_knn_smote, tpr_knn_smote, label=f'KNN (AUC = {auc_knn:.2f})')\n",
    "plt.xlabel('False Positive Rate')\n",
    "plt.ylabel('True Positive Rate')\n",
    "plt.title('Receiver Operating Characteristic (ROC) Curve')\n",
    "plt.legend()\n",
    "plt.show()\n"
   ]
  },
  {
   "cell_type": "code",
   "execution_count": 38,
   "id": "f888a746",
   "metadata": {},
   "outputs": [
    {
     "data": {
      "image/png": "[encoded data removed]",
      "text/plain": [
       "<Figure size 576x432 with 1 Axes>"
      ]
     },
     "metadata": {},
     "output_type": "display_data"
    }
   ],
   "source": [
    "colors = ['#865DFF', '#61876E', '#FE6244']  # Update colors here ['#865DFF', '#FFC6D3']\n",
    "# Calculate confusion matrix\n",
    "# Compute classification report\n",
    "report = classification_report(y_test_Smote, y_pred_xgb_Smote, output_dict=True)\n",
    "precision = report['1']['precision']\n",
    "recall = report['1']['recall']\n",
    "f1_score = report['1']['f1-score']\n",
    "\n",
    "# Create a bar chart\n",
    "labels = ['Precision', 'Recall', 'F1-score']\n",
    "scores = [precision, recall, f1_score]\n",
    "x = np.arange(len(labels))\n",
    "\n",
    "# Increase size of chart\n",
    "plt.figure(figsize=(8, 6))\n",
    "\n",
    "plt.bar(x, scores, color=colors)\n",
    "plt.xticks(x, labels)\n",
    "plt.ylabel('Scores')\n",
    "plt.title('XGBoost Model Performance using SMOTE')\n",
    "plt.show()\n"
   ]
  },
  {
   "cell_type": "code",
   "execution_count": 71,
   "id": "89c340d6",
   "metadata": {},
   "outputs": [],
   "source": [
    "# Calculate confusion matrix\n",
    "tn, fp, fn, tp = confusion_matrix(y_test_Smote, y_pred_xgb_Smote).ravel()"
   ]
  },
  {
   "cell_type": "code",
   "execution_count": 72,
   "id": "21e1db2a",
   "metadata": {},
   "outputs": [
    {
     "name": "stdout",
     "output_type": "stream",
     "text": [
      "FAR: 0.005592769516540641\n",
      "BCR: 0.8313289493670638\n",
      "MCC: 0.6155668596815844\n"
     ]
    }
   ],
   "source": [
    "# Calculate FAR, BCR, and MCC\n",
    "far = fp / (fp + tn)\n",
    "bcr = 1 - ((fp / (fp + tn)) + (fn / (fn + tp))) / 2\n",
    "#mcc = ((tp * tn) - (fp * fn)) / (((tp + fp) * (tp + fn) * (tn + fp) * (tn + fn)) ** 0.5)\n",
    "\n",
    "\n",
    "print(\"FAR:\", far)\n",
    "print(\"BCR:\", bcr)\n"
   ]
  },
  {
   "cell_type": "markdown",
   "id": "9141a9b7",
   "metadata": {},
   "source": [
    "# Class Imbalance Using Under-Sampling"
   ]
  },
  {
   "cell_type": "code",
   "execution_count": 32,
   "id": "681ae530",
   "metadata": {},
   "outputs": [
    {
     "name": "stdout",
     "output_type": "stream",
     "text": [
      "copy of dataset formed\n"
     ]
    }
   ],
   "source": [
    "df_under=df.copy()\n",
    "print(\"copy of dataset formed\")"
   ]
  },
  {
   "cell_type": "code",
   "execution_count": 33,
   "id": "301fcaa5",
   "metadata": {},
   "outputs": [],
   "source": [
    "# create a BinaryEncoder object\n",
    "encoder = ce.BinaryEncoder(cols=['payment_type','employment_status','housing_status','device_os','source'])\n",
    "\n",
    "# fit and transform the data using the encoder\n",
    "df_under= encoder.fit_transform(df_under)"
   ]
  },
  {
   "cell_type": "code",
   "execution_count": 34,
   "id": "1a89485e",
   "metadata": {},
   "outputs": [],
   "source": [
    "# Split the data into features and target\n",
    "y = df_under.Fraud_Status\n",
    "x = df_under.drop([\"Fraud_Status\"],axis = 1)\n",
    "columns = x.columns.tolist()"
   ]
  },
  {
   "cell_type": "code",
   "execution_count": 35,
   "id": "2a54baa4",
   "metadata": {},
   "outputs": [],
   "source": [
    "from imblearn.under_sampling import RandomUnderSampler\n",
    "sampler = RandomUnderSampler(random_state=42)\n",
    "X_under, y_under = sampler.fit_resample(x, y)\n",
    "#X_res, y_res = sampler.fit_resample(X, y)"
   ]
  },
  {
   "cell_type": "code",
   "execution_count": 36,
   "id": "43cb0c14",
   "metadata": {},
   "outputs": [],
   "source": [
    "X_train_under, X_test_under, y_train_under, y_test_under = train_test_split(X_under, y_under, test_size=0.20, random_state=42)"
   ]
  },
  {
   "cell_type": "code",
   "execution_count": 37,
   "id": "bcd41854",
   "metadata": {},
   "outputs": [],
   "source": [
    "from sklearn.preprocessing import StandardScaler\n",
    "scaler = StandardScaler()\n",
    "X_train_under = scaler.fit_transform(X_train_under)\n",
    "X_test_under = scaler.transform(X_test_under)"
   ]
  },
  {
   "cell_type": "markdown",
   "id": "1b69c0b2",
   "metadata": {},
   "source": [
    "# Logistic Regression Using Under-Sampling"
   ]
  },
  {
   "cell_type": "code",
   "execution_count": 134,
   "id": "feddc9b5",
   "metadata": {},
   "outputs": [
    {
     "name": "stdout",
     "output_type": "stream",
     "text": [
      "Accuracy: 0.8372620126926564\n",
      "Confusion Matrix: [[1939  293]\n",
      " [ 425 1755]]\n"
     ]
    }
   ],
   "source": [
    "# Train a logistic regression model on the oversampled data\n",
    "lg = LogisticRegression(solver='liblinear',C= 1, penalty= 'l1')\n",
    "\n",
    "# Train the classifier\n",
    "lg.fit(X_train_under, y_train_under)\n",
    "\n",
    "# Make predictions on the testing set\n",
    "y_pred_Ulg = lg.predict(X_test_under)\n",
    "\n",
    "y_pred_lg_under1 = lg.predict_proba(X_test_under)[:, 1]\n",
    "fpr_lg_under1, tpr_lg_under1, thresholds_lg_under = roc_curve(y_test_under, y_pred_lg_under1)\n",
    "auc_lg_under1 = roc_auc_score(y_test_under, y_pred_lg_under1)\n",
    "\n",
    "# Evaluate the model\n",
    "print('Accuracy:', accuracy_score(y_test_under, y_pred_Ulg))\n",
    "print('Confusion Matrix:', confusion_matrix(y_test_under, y_pred_Ulg))"
   ]
  },
  {
   "cell_type": "code",
   "execution_count": 135,
   "id": "55a302a8",
   "metadata": {},
   "outputs": [
    {
     "name": "stdout",
     "output_type": "stream",
     "text": [
      "              precision    recall  f1-score   support\n",
      "\n",
      "           0       0.82      0.87      0.84      2232\n",
      "           1       0.86      0.81      0.83      2180\n",
      "\n",
      "    accuracy                           0.84      4412\n",
      "   macro avg       0.84      0.84      0.84      4412\n",
      "weighted avg       0.84      0.84      0.84      4412\n",
      "\n"
     ]
    }
   ],
   "source": [
    "# Evaluate the performance of the model\n",
    "print(classification_report(y_test_under, y_pred_Ulg))"
   ]
  },
  {
   "cell_type": "markdown",
   "id": "69584cbc",
   "metadata": {},
   "source": [
    "# Random forest classifier after Under-sampling"
   ]
  },
  {
   "cell_type": "code",
   "execution_count": 128,
   "id": "3a0f2c39",
   "metadata": {},
   "outputs": [
    {
     "name": "stdout",
     "output_type": "stream",
     "text": [
      "Accuracy: 0.8882592928377153\n",
      "Confusion Matrix: [[2081  151]\n",
      " [ 342 1838]]\n"
     ]
    }
   ],
   "source": [
    "# Create random forest classifier\n",
    "rf = RandomForestClassifier(n_estimators=100, random_state=42)\n",
    "\n",
    "# Train the classifier\n",
    "rf.fit(X_train_under, y_train_under)\n",
    "\n",
    "# Make predictions on the testing set\n",
    "y_pred_Urf = rf.predict(X_test_under)\n",
    "\n",
    "y_pred_Urf1 = rf.predict_proba(X_test_under)[:, 1]\n",
    "fpr_rf_under, tpr_rf_under, thresholds_rf_under = roc_curve(y_test_under, y_pred_Urf1)\n",
    "auc_rf_under = roc_auc_score(y_test_under, y_pred_Urf1)\n",
    "\n",
    "# Evaluate the model\n",
    "print('Accuracy:', accuracy_score(y_test_under, y_pred_Urf))\n",
    "print('Confusion Matrix:', confusion_matrix(y_test_under, y_pred_Urf))"
   ]
  },
  {
   "cell_type": "code",
   "execution_count": 91,
   "id": "9c4a2d34",
   "metadata": {},
   "outputs": [
    {
     "name": "stdout",
     "output_type": "stream",
     "text": [
      "              precision    recall  f1-score   support\n",
      "\n",
      "           0       0.86      0.93      0.89      2232\n",
      "           1       0.92      0.84      0.88      2180\n",
      "\n",
      "    accuracy                           0.89      4412\n",
      "   macro avg       0.89      0.89      0.89      4412\n",
      "weighted avg       0.89      0.89      0.89      4412\n",
      "\n"
     ]
    }
   ],
   "source": [
    "# Evaluate the performance of the model\n",
    "print(classification_report(y_test_under, y_pred_Urf))"
   ]
  },
  {
   "cell_type": "markdown",
   "id": "68d75072",
   "metadata": {},
   "source": [
    "# Gradient boosting classifier using Under-Sampling"
   ]
  },
  {
   "cell_type": "code",
   "execution_count": 38,
   "id": "a314910b",
   "metadata": {},
   "outputs": [
    {
     "name": "stdout",
     "output_type": "stream",
     "text": [
      "Gradient Boosting Accuracy: 0.9023118766999093\n",
      "Gradient Boosting Confusion Matrix: [[2072  160]\n",
      " [ 271 1909]]\n"
     ]
    }
   ],
   "source": [
    "# Create gradient boosting classifier\n",
    "import xgboost as xgb\n",
    "xgb = xgb.XGBClassifier(n_estimators=100,random_state=42, max_depth=5, learning_rate=0.1, objective='binary:logistic')\n",
    "# Train the gradient boosting classifier\n",
    "xgb.fit(X_train_under, y_train_under)\n",
    "\n",
    "# Make predictions on the testing set using the gradient boosting classifier\n",
    "y_pred_xgb_under = xgb.predict(X_test_under)\n",
    "\n",
    "y_pred_xgb_under1 = xgb.predict_proba(X_test_under)[:, 1]\n",
    "fpr_xgb_under, tpr_xgb_under, thresholds_xgb_under = roc_curve(y_test_under, y_pred_xgb_under1)\n",
    "auc_xgb_under = roc_auc_score(y_test_under, y_pred_xgb_under1)\n",
    "\n",
    "# Evaluate the models\n",
    "\n",
    "print('Gradient Boosting Accuracy:', accuracy_score(y_test_under, y_pred_xgb_under))\n",
    "print('Gradient Boosting Confusion Matrix:', confusion_matrix(y_test_under, y_pred_xgb_under))"
   ]
  },
  {
   "cell_type": "code",
   "execution_count": 39,
   "id": "e8fe5cf9",
   "metadata": {},
   "outputs": [
    {
     "name": "stdout",
     "output_type": "stream",
     "text": [
      "              precision    recall  f1-score   support\n",
      "\n",
      "           0       0.88      0.93      0.91      2232\n",
      "           1       0.92      0.88      0.90      2180\n",
      "\n",
      "    accuracy                           0.90      4412\n",
      "   macro avg       0.90      0.90      0.90      4412\n",
      "weighted avg       0.90      0.90      0.90      4412\n",
      "\n"
     ]
    }
   ],
   "source": [
    "# Evaluate the performance of the model\n",
    "print(classification_report(y_test_under, y_pred_xgb_under))"
   ]
  },
  {
   "cell_type": "markdown",
   "id": "fca75eeb",
   "metadata": {},
   "source": [
    "# KNeighborsClassifier"
   ]
  },
  {
   "cell_type": "code",
   "execution_count": 122,
   "id": "38773e1e",
   "metadata": {},
   "outputs": [
    {
     "name": "stdout",
     "output_type": "stream",
     "text": [
      "Accuracy: 0.8064369900271986\n",
      "Confusion Matrix: [[1840  392]\n",
      " [ 462 1718]]\n"
     ]
    }
   ],
   "source": [
    "# Create KNeighborsClassifier\n",
    "knn = KNeighborsClassifier()\n",
    "\n",
    "# Train the classifier\n",
    "knn.fit(X_train_under, y_train_under)\n",
    "\n",
    "# Make predictions on the testing set\n",
    "y_pred_knn_under = knn.predict(X_test_under)\n",
    "\n",
    "y_pred_knn_under1 = knn.predict_proba(X_test_under)[:, 1]\n",
    "fpr_knn_under1, tpr_knn_under1, thresholds_knn_under = roc_curve(y_test_under, y_pred_knn_under1)\n",
    "auc_knn_under1 = roc_auc_score(y_test_under, y_pred_knn_under1)\n",
    "\n",
    "# Evaluate the model\n",
    "print('Accuracy:', accuracy_score(y_test_under, y_pred_knn_under))\n",
    "print('Confusion Matrix:', confusion_matrix(y_test_under, y_pred_knn_under))"
   ]
  },
  {
   "cell_type": "code",
   "execution_count": 123,
   "id": "551d0ab4",
   "metadata": {},
   "outputs": [
    {
     "name": "stdout",
     "output_type": "stream",
     "text": [
      "              precision    recall  f1-score   support\n",
      "\n",
      "           0       0.80      0.82      0.81      2232\n",
      "           1       0.81      0.79      0.80      2180\n",
      "\n",
      "    accuracy                           0.81      4412\n",
      "   macro avg       0.81      0.81      0.81      4412\n",
      "weighted avg       0.81      0.81      0.81      4412\n",
      "\n"
     ]
    }
   ],
   "source": [
    "# Evaluate the performance of the model\n",
    "print(classification_report(y_test_under, y_pred_knn_under))"
   ]
  },
  {
   "cell_type": "markdown",
   "id": "bb90270a",
   "metadata": {},
   "source": [
    "# ROC AUC score Using Under-Sampling"
   ]
  },
  {
   "cell_type": "code",
   "execution_count": 136,
   "id": "95895397",
   "metadata": {},
   "outputs": [
    {
     "data": {
      "image/png": "[encoded data removed]",
      "text/plain": [
       "<Figure size 432x288 with 1 Axes>"
      ]
     },
     "metadata": {},
     "output_type": "display_data"
    }
   ],
   "source": [
    "# Plot the AUC for each modelplt.figure(figsize=(8, 6))\n",
    "plt.plot([0, 1], [0, 1], 'k--', label='Random')\n",
    "plt.plot(fpr_lg_under1, tpr_lg_under1, label=f'Logistic Regression (AUC = {auc_lg_under:.2f})')\n",
    "plt.plot(fpr_rf_under, tpr_rf_under, label=f'Random Forest (AUC = {auc_rf_under:.2f})')\n",
    "plt.plot(fpr_xgb_under, tpr_xgb_under, label=f'XGBoost (AUC = {auc_xgb_under:.2f})')\n",
    "plt.plot(fpr_knn_under1, tpr_knn_under1, label=f'KNN (AUC = {auc_knn_under1:.2f})')\n",
    "plt.xlabel('False Positive Rate')\n",
    "plt.ylabel('True Positive Rate')\n",
    "plt.title('Receiver Operating Characteristic (ROC) Curve')\n",
    "plt.legend()\n",
    "plt.show()"
   ]
  },
  {
   "cell_type": "code",
   "execution_count": 190,
   "id": "b7e62323",
   "metadata": {},
   "outputs": [
    {
     "data": {
      "image/png": "[encoded data removed]",
      "text/plain": [
       "<Figure size 576x432 with 1 Axes>"
      ]
     },
     "metadata": {},
     "output_type": "display_data"
    }
   ],
   "source": [
    "colors = ['#865DFF', '#61876E', '#FE6244']  # Update colors here ['#865DFF', '#FFC6D3']\n",
    "# Calculate confusion matrix\n",
    "# Compute classification report\n",
    "report = classification_report(y_test_under, y_pred_gb_under, output_dict=True)\n",
    "precision = report['1']['precision']\n",
    "recall = report['1']['recall']\n",
    "f1_score = report['1']['f1-score']\n",
    "\n",
    "# Create a bar chart\n",
    "labels = ['Precision', 'Recall', 'F1-score']\n",
    "scores = [precision, recall, f1_score]\n",
    "x = np.arange(len(labels))\n",
    "\n",
    "# Increase size of chart\n",
    "plt.figure(figsize=(8, 6))\n",
    "\n",
    "plt.bar(x, scores, color=colors)\n",
    "plt.xticks(x, labels)\n",
    "plt.ylabel('Scores')\n",
    "plt.title('XGBoost Model Performance using Under-Sampling')\n",
    "plt.show()"
   ]
  },
  {
   "cell_type": "code",
   "execution_count": 41,
   "id": "64cb866f",
   "metadata": {},
   "outputs": [],
   "source": [
    "# Calculate confusion matrix\n",
    "tn, fp, fn, tp = confusion_matrix(y_test_under, y_pred_xgb_under).ravel()\n"
   ]
  },
  {
   "cell_type": "code",
   "execution_count": 42,
   "id": "f5a70ba6",
   "metadata": {},
   "outputs": [
    {
     "name": "stdout",
     "output_type": "stream",
     "text": [
      "FAR: 0.07168458781362007\n",
      "BCR: 0.9020017427904377\n"
     ]
    }
   ],
   "source": [
    "# Calculate FAR, BCR, and MCC\n",
    "far = fp / (fp + tn)\n",
    "bcr = 1 - ((fp / (fp + tn)) + (fn / (fn + tp))) / 2\n",
    "\n",
    "print(\"FAR:\", far)\n",
    "print(\"BCR:\", bcr)"
   ]
  },
  {
   "cell_type": "markdown",
   "id": "38af9ac3",
   "metadata": {},
   "source": [
    "# Conclusion"
   ]
  },
  {
   "cell_type": "markdown",
   "id": "37a797ca",
   "metadata": {},
   "source": [
    "The use of Extreme Gradient Boosting (XGBoost) classifier produced the best performing metrics with a precision of 92%, recall of 87%, F1-score of 90%, ROC-AUC of 97%, false alarm rate of 0.07, and Balanced Classification Rate (BCR) of 90%. The application of under-sampling method to fix class imbalance further improved the model's performance."
   ]
  },
  {
   "cell_type": "code",
   "execution_count": null,
   "id": "6056a8a1",
   "metadata": {},
   "outputs": [],
   "source": []
  }
 ],
 "metadata": {
  "kernelspec": {
   "display_name": "Python 3 (ipykernel)",
   "language": "python",
   "name": "python3"
  },
  "language_info": {
   "codemirror_mode": {
    "name": "ipython",
    "version": 3
   },
   "file_extension": ".py",
   "mimetype": "text/x-python",
   "name": "python",
   "nbconvert_exporter": "python",
   "pygments_lexer": "ipython3",
   "version": "3.9.12"
  }
 },
 "nbformat": 4,
 "nbformat_minor": 5
}
